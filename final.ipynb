{
 "cells": [
  {
   "cell_type": "markdown",
   "id": "3b8f10b1",
   "metadata": {},
   "source": [
    "# **DATA EXPLORATION**"
   ]
  },
  {
   "cell_type": "markdown",
   "id": "8315c4c8",
   "metadata": {},
   "source": [
    "---"
   ]
  },
  {
   "cell_type": "code",
   "execution_count": 1,
   "id": "b80e8f69",
   "metadata": {},
   "outputs": [],
   "source": [
    "import pandas as pd\n",
    "\n",
    "movies = pd.read_csv('movies.csv')\n",
    "ratings = pd.read_csv('ratings.csv')\n",
    "tags = pd.read_csv('tags.csv')"
   ]
  },
  {
   "cell_type": "code",
   "execution_count": 2,
   "id": "b92a0762",
   "metadata": {},
   "outputs": [
    {
     "name": "stdout",
     "output_type": "stream",
     "text": [
      "['Adventure|Animation|Children|Comedy|Fantasy'\n",
      " 'Adventure|Children|Fantasy' 'Comedy|Romance' 'Comedy|Drama|Romance'\n",
      " 'Comedy' 'Action|Crime|Thriller' 'Adventure|Children' 'Action'\n",
      " 'Action|Adventure|Thriller' 'Comedy|Horror'\n",
      " 'Adventure|Animation|Children' 'Drama' 'Action|Adventure|Romance'\n",
      " 'Crime|Drama' 'Drama|Romance' 'Action|Comedy|Crime|Drama|Thriller'\n",
      " 'Comedy|Crime|Thriller' 'Crime|Drama|Horror|Mystery|Thriller'\n",
      " 'Drama|Sci-Fi' 'Children|Drama' 'Adventure|Drama|Fantasy|Mystery|Sci-Fi'\n",
      " 'Mystery|Sci-Fi|Thriller' 'Children|Comedy' 'Drama|War'\n",
      " 'Action|Crime|Drama' 'Action|Adventure|Fantasy' 'Comedy|Drama|Thriller'\n",
      " 'Mystery|Thriller' 'Animation|Children|Drama|Musical|Romance'\n",
      " 'Crime|Mystery|Thriller' 'Adventure|Drama' 'Drama|Thriller'\n",
      " 'Comedy|Crime' 'Action|Sci-Fi|Thriller' 'Action|Comedy|Horror|Thriller'\n",
      " 'Comedy|Drama' 'Documentary' 'Action|Crime|Drama|Thriller'\n",
      " 'Crime|Drama|Romance' 'Action|Adventure|Drama' 'Action|Thriller'\n",
      " 'Drama|Horror|Thriller' 'Comedy|Horror|Romance'\n",
      " 'Adventure|Comedy|Crime|Romance' 'Adventure|Children|Comedy|Musical'\n",
      " 'Action|Drama|War' 'Crime|Drama|Thriller' 'Action|Adventure|Comedy|Crime'\n",
      " 'Drama|Mystery' 'Drama|Mystery|Romance' 'Thriller' 'Adventure|Drama|IMAX'\n",
      " 'Action|Drama|Romance|War' 'Drama|Horror' 'Adventure|Drama|War'\n",
      " 'Comedy|War' 'Crime|Drama|Mystery' 'Action|Adventure|Mystery|Sci-Fi'\n",
      " 'Drama|Thriller|War' 'Action|Romance|Western'\n",
      " 'Crime|Film-Noir|Mystery|Thriller' 'Comedy|Crime|Drama'\n",
      " 'Action|Drama|Romance' 'Adventure|Children|Drama'\n",
      " 'Action|Adventure|Crime|Thriller' 'Action|Crime|Sci-Fi' 'Horror'\n",
      " 'Action|Children' 'Comedy|Horror|Thriller' 'Fantasy|Horror|Mystery'\n",
      " 'Comedy|Fantasy' 'Horror|Sci-Fi'\n",
      " 'Action|Crime|Drama|Mystery|Sci-Fi|Thriller' 'Drama|Musical|Romance'\n",
      " 'Drama|Fantasy' 'Action|Adventure|Sci-Fi' 'Western'\n",
      " 'Adventure|Comedy|Crime|Mystery' 'Adventure|Comedy'\n",
      " 'Action|Comedy|Romance' 'Animation|Children|Comedy|Romance'\n",
      " 'Drama|Musical' 'Children|Comedy|Fantasy' 'Comedy|Sci-Fi'\n",
      " 'Adventure|Children|Comedy|Fantasy|Romance' 'Drama|Fantasy|Romance'\n",
      " 'Drama|Romance|War|Western' 'Drama|Horror|Sci-Fi' 'Action|Crime'\n",
      " 'Action|Drama|Sci-Fi|Thriller' 'Comedy|Crime|Drama|Thriller'\n",
      " 'Action|Thriller|Western' 'Horror|Thriller' 'Animation|Children'\n",
      " 'Children|Drama|Fantasy|Mystery' 'Action|Drama|Thriller'\n",
      " 'Comedy|Drama|Fantasy' 'Film-Noir|Thriller' 'Action|Comedy|Sci-Fi'\n",
      " 'Adventure|Drama|Sci-Fi' 'Action|Crime|Horror' 'Children'\n",
      " 'Drama|Film-Noir|Romance' 'Drama|Mystery|Thriller'\n",
      " 'Action|Crime|Fantasy|Thriller' 'Comedy|Drama|Romance|War'\n",
      " 'Action|Comedy' 'Adventure|Children|Romance'\n",
      " 'Adventure|Animation|Children|Drama|Musical|IMAX'\n",
      " 'Drama|Horror|Mystery|Thriller' 'Action|Comedy|Crime|Fantasy'\n",
      " 'Adventure|Comedy|Western' 'Action|Romance|Thriller'\n",
      " 'Action|Adventure|Comedy|Romance|Thriller'\n",
      " 'Drama|Horror|Romance|Thriller' 'Drama|Romance|War' 'Action|Fantasy'\n",
      " 'Comedy|Thriller' 'Action|Comedy|Crime|Thriller' 'Horror|Sci-Fi|Thriller'\n",
      " 'Drama|Mystery|Romance|Thriller' 'Action|Comedy|Drama' 'Drama|Western'\n",
      " 'Action|Adventure|Crime|Drama|Romance|Thriller' 'Action|Comedy|War'\n",
      " 'Action|Adventure|Sci-Fi|Thriller' 'Action|Adventure|Comedy|Fantasy'\n",
      " 'Comedy|Western' 'Comedy|Mystery' 'Comedy|Drama|Romance|Thriller'\n",
      " 'Action|Children|Romance' 'Action|Drama|Sci-Fi' 'Action|Drama'\n",
      " 'Comedy|Mystery|Romance' 'Action|Drama|Mystery'\n",
      " 'Action|Crime|Drama|Sci-Fi|Thriller' 'Crime|Thriller'\n",
      " 'Comedy|Crime|Horror' 'Action|Adventure|Fantasy|Mystery'\n",
      " 'Comedy|Romance|Thriller'\n",
      " 'Action|Adventure|Children|Comedy|Fantasy|Sci-Fi'\n",
      " 'Action|Mystery|Thriller' 'Animation|Children|Fantasy|Musical'\n",
      " 'Action|Adventure|Comedy|Romance' 'Action|Drama|Western'\n",
      " 'Action|Adventure|Animation|Children|Fantasy'\n",
      " 'Comedy|Drama|Fantasy|Romance|Thriller'\n",
      " 'Adventure|Animation|Children|Comedy|Musical' 'Action|Sci-Fi'\n",
      " 'Adventure|Drama|Western' 'Crime|Horror|Thriller'\n",
      " 'Animation|Children|Drama|Fantasy|Musical'\n",
      " 'Animation|Children|Fantasy|Musical|Romance|IMAX' 'Adventure|Western'\n",
      " 'Action|Comedy|Crime' 'Fantasy|Horror'\n",
      " 'Action|Adventure|Animation|Horror|Sci-Fi' 'Action|Horror|Sci-Fi'\n",
      " 'Crime|Drama|Mystery|Thriller'\n",
      " 'Adventure|Animation|Children|Fantasy|Musical|Romance' 'Romance'\n",
      " 'Action|Crime|Drama|War' 'Action|Adventure|Mystery|Thriller'\n",
      " 'Adventure|Animation|Children|Fantasy|Musical' 'Comedy|Drama|War'\n",
      " 'Adventure|Animation|Children|Comedy|Fantasy|Sci-Fi'\n",
      " 'Adventure|Comedy|Sci-Fi' 'Drama|Mystery|Romance|Sci-Fi|Thriller'\n",
      " 'Action|Adventure|Comedy|War' 'Action|Adventure' 'Drama|Mystery|Western'\n",
      " 'Comedy|Fantasy|Sci-Fi' 'Adventure|Animation|Comedy'\n",
      " 'Drama|Fantasy|Horror|Thriller' 'Action|Adventure|Romance|Thriller'\n",
      " 'Animation|Sci-Fi' 'Animation|Children|Comedy' 'Horror|Mystery'\n",
      " 'Comedy|Fantasy|Romance|Sci-Fi' 'Action|Adventure|Drama|Thriller'\n",
      " 'Comedy|Fantasy|Musical' 'Crime|Drama|Romance|Thriller'\n",
      " 'Crime|Drama|Musical|Thriller' 'Sci-Fi|Thriller' 'Children|Drama|Fantasy'\n",
      " 'Adventure|Animation|Children|Musical' 'Adventure|Drama|Romance|War'\n",
      " 'Comedy|Musical|Romance' 'Musical|Romance' 'Comedy|Musical'\n",
      " 'Action|Adventure|Mystery|Romance|Thriller'\n",
      " 'Comedy|Crime|Mystery|Romance|Thriller' 'Film-Noir|Mystery'\n",
      " 'Comedy|Drama|Musical|Romance' 'Musical'\n",
      " 'Adventure|Children|Fantasy|Musical' 'Drama|Film-Noir|Mystery|Thriller'\n",
      " 'Film-Noir|Romance|Thriller' 'Mystery|Romance|Thriller'\n",
      " 'Crime|Mystery|Romance|Thriller' 'Adventure' 'Crime|Film-Noir|Mystery'\n",
      " 'Drama|Romance|Western' 'Children|Drama|Fantasy|Romance'\n",
      " 'Adventure|Comedy|Romance|War' 'Adventure|Comedy|Crime|Drama|Romance'\n",
      " 'Romance|War' 'Crime|Film-Noir' 'Children|Comedy|Western'\n",
      " 'Children|Comedy|Fantasy|Romance' 'Children|Comedy|Romance'\n",
      " 'Children|Comedy|Drama' 'Children|Comedy|Mystery'\n",
      " 'Animation|Children|Fantasy|Musical|Romance' 'Animation|Children|Musical'\n",
      " 'Children|Comedy|Fantasy|Musical' 'Animation|Children|Drama|Musical'\n",
      " 'Adventure|Children|Musical' 'Animation|Children|Drama'\n",
      " 'Action|Horror|Sci-Fi|Thriller' 'Documentary|Drama'\n",
      " 'Animation|Children|Comedy|Fantasy|Musical|Romance'\n",
      " 'Drama|Romance|Thriller' 'Children|Drama|Sci-Fi' 'Action|Romance'\n",
      " 'Adventure|Comedy|Fantasy' 'Animation|Children|Comedy|Crime'\n",
      " 'Animation|Comedy|Drama|Fantasy' 'Crime|Drama|Film-Noir'\n",
      " 'Documentary|Musical' 'Action|Adventure|Comedy|Fantasy|Romance'\n",
      " 'Fantasy|Sci-Fi' 'Action|Adventure|Horror|Sci-Fi'\n",
      " 'Action|Adventure|Western' 'Crime|Drama|Sci-Fi|Thriller'\n",
      " 'Film-Noir|Mystery|Thriller' 'Action|Adventure|Comedy|Fantasy|Horror'\n",
      " 'Adventure|Drama|Romance' 'Crime|Horror' 'Action|Comedy|Musical'\n",
      " 'Adventure|Animation|Children|Comedy|Sci-Fi' 'Drama|Mystery|Sci-Fi'\n",
      " 'Comedy|Fantasy|Horror' 'Crime|Drama|Film-Noir|Thriller'\n",
      " 'Crime|Film-Noir|Thriller' 'Action|Crime|Romance|Thriller'\n",
      " 'Drama|Sci-Fi|Thriller' 'Action|Adventure|Drama|Western'\n",
      " 'Comedy|Horror|Sci-Fi' 'Comedy|Musical|War'\n",
      " 'Action|Comedy|Fantasy|Horror' 'Action|Adventure|Drama|War'\n",
      " 'Action|Drama|Mystery|Romance|Thriller' 'Comedy|Fantasy|Romance'\n",
      " 'Crime|Thriller|War' 'Comedy|Mystery|Thriller' 'Comedy|Drama|Film-Noir'\n",
      " 'Action|Adventure|Animation|Sci-Fi' 'Action|Western'\n",
      " 'Fantasy|Horror|Romance|Thriller' 'Drama|Fantasy|Horror'\n",
      " 'Horror|Mystery|Thriller' 'Adventure|Children|Comedy' 'Adventure|Sci-Fi'\n",
      " 'Action|Mystery|Sci-Fi' 'Action|Comedy|Western' 'Action|Horror'\n",
      " 'Action|Comedy|Crime|Drama|Sci-Fi' 'Adventure|Animation|Comedy|Crime'\n",
      " 'Comedy|Horror|Mystery|Thriller' 'Action|Romance|War|Western'\n",
      " 'Comedy|Drama|Fantasy|Romance' 'Action|Adventure|Comedy|Thriller' 'Crime'\n",
      " 'Crime|Drama|Fantasy|Film-Noir|Mystery|Romance'\n",
      " 'Action|Comedy|Crime|Drama' 'Action|Romance|Sci-Fi|Thriller'\n",
      " 'Comedy|Drama|Mystery|Romance' 'Action|Adventure|Children'\n",
      " 'Comedy|Crime|Romance' 'Action|Adventure|Comedy'\n",
      " 'Action|Adventure|Comedy|Sci-Fi' 'Action|Adventure|Fantasy|Thriller'\n",
      " 'Children|Fantasy' 'Adventure|Romance' 'Action|Thriller|War'\n",
      " 'Children|Comedy|Romance|Sci-Fi' 'Romance|Thriller' 'Comedy|Drama|Sci-Fi'\n",
      " 'Adventure|Animation|Children|Drama|Musical'\n",
      " 'Action|Adventure|Drama|Sci-Fi' 'Action|Children|Comedy'\n",
      " 'Adventure|Film-Noir|Sci-Fi|Thriller' 'Crime|Drama|Fantasy|Thriller'\n",
      " 'Crime|Romance|Thriller' 'Crime|Drama|Mystery|Romance|Thriller'\n",
      " 'Documentary|IMAX' 'Comedy|Crime|Drama|Mystery|Thriller'\n",
      " 'Comedy|Documentary' 'Adventure|Children|Comedy|Fantasy'\n",
      " 'Crime|Drama|Romance|War' 'Adventure|Comedy|Drama'\n",
      " 'Adventure|Comedy|Romance'\n",
      " 'Adventure|Animation|Children|Comedy|Drama|Musical|Romance'\n",
      " 'Action|Crime|Mystery|Sci-Fi|Thriller'\n",
      " 'Comedy|Crime|Drama|Romance|Thriller' 'Animation|Children|Fantasy|War'\n",
      " 'Comedy|Drama|Musical' 'Adventure|Fantasy|Musical'\n",
      " 'Action|Adventure|Children|Comedy|Fantasy'\n",
      " 'Drama|Mystery|Sci-Fi|Thriller' 'Adventure|Comedy|Sci-Fi|Western'\n",
      " 'Children|Fantasy|Musical' 'Adventure|Animation|Children|Fantasy'\n",
      " 'Children|Sci-Fi' 'Children|Comedy|Sci-Fi'\n",
      " 'Action|Adventure|Children|Comedy' 'Adventure|Children|Sci-Fi'\n",
      " 'Action|Animation|Children|Crime' 'Children|Comedy|Fantasy|Horror'\n",
      " 'Adventure|Children|Comedy|Fantasy|Sci-Fi'\n",
      " 'Action|Crime|Drama|Mystery|Thriller' 'Film-Noir' 'Drama|Fantasy|Mystery'\n",
      " 'Animation|Children|Comedy|Musical'\n",
      " 'Animation|Children|Comedy|Musical|Romance' 'Children|Comedy|Musical'\n",
      " 'Children|Musical' 'Adventure|Comedy|Musical'\n",
      " 'Adventure|Animation|Children|Crime|Drama'\n",
      " 'Children|Drama|Fantasy|Mystery|Thriller'\n",
      " 'Adventure|Children|Fantasy|Western'\n",
      " 'Animation|Children|Comedy|Drama|Fantasy' 'Action|Crime|Mystery|Thriller'\n",
      " 'Adventure|Animation|Children|Drama|Fantasy'\n",
      " 'Adventure|Animation|Children|Drama' 'Adventure|Fantasy'\n",
      " 'Adventure|Animation|Children|Comedy'\n",
      " 'Adventure|Animation|Children|Musical|Western'\n",
      " 'Adventure|Fantasy|Romance' 'Adventure|Drama|Fantasy'\n",
      " 'Action|Comedy|Drama|Horror' 'Action|Horror|Thriller'\n",
      " 'Drama|Film-Noir|Thriller' 'Adventure|Drama|Mystery|Thriller'\n",
      " 'Horror|Mystery|Sci-Fi|Thriller' 'Drama|Fantasy|Thriller'\n",
      " 'Adventure|Drama|Fantasy|Romance' 'Sci-Fi'\n",
      " 'Drama|Fantasy|Mystery|Romance' 'Action|Sci-Fi|War'\n",
      " 'Fantasy|Horror|Thriller' 'Horror|Western'\n",
      " 'Action|Adventure|Fantasy|Horror'\n",
      " 'Adventure|Fantasy|Romance|Sci-Fi|Thriller' 'Comedy|Crime|Mystery'\n",
      " 'Action|Drama|Romance|Sci-Fi' 'Animation|Musical'\n",
      " 'Action|Adventure|Thriller|War' 'Comedy|Crime|Mystery|Thriller'\n",
      " 'Action|Adventure|Children|Fantasy|Mystery|Thriller'\n",
      " 'Action|Adventure|Children|Drama'\n",
      " 'Action|Adventure|Drama|Fantasy|Thriller' 'Horror|Mystery|Sci-Fi'\n",
      " 'Drama|Horror|Sci-Fi|Thriller' 'Action|Comedy|Romance|Thriller'\n",
      " 'Action|War' 'Adventure|Comedy|Thriller' 'Action|Sci-Fi|Thriller|Western'\n",
      " 'Drama|Romance|Sci-Fi|Thriller' 'Drama|Film-Noir'\n",
      " 'Action|Adventure|Comedy|Fantasy|Horror|Thriller'\n",
      " 'Action|Adventure|Crime|Sci-Fi|Thriller' 'Adventure|Drama|Mystery'\n",
      " 'Horror|Romance' 'Comedy|Horror|Musical|Sci-Fi' 'War'\n",
      " 'Comedy|Romance|Sci-Fi' 'Animation|Comedy|Musical'\n",
      " 'Action|Comedy|Sci-Fi|Western' 'Action|Comedy|Fantasy'\n",
      " 'Adventure|Drama|Thriller' 'Action|Adventure|Comedy|Fantasy|Mystery'\n",
      " 'Comedy|Horror|Musical' 'Adventure|Animation|Children|Drama|Sci-Fi'\n",
      " 'Drama|Horror|Mystery' 'Action|Mystery' 'Comedy|Horror|Romance|Thriller'\n",
      " 'Action|Drama|Romance|Thriller' 'Animation|Horror|Mystery|Thriller'\n",
      " 'Adventure|Children|Comedy|Drama' 'Adventure|Sci-Fi|Thriller'\n",
      " 'Adventure|Animation|Comedy|Fantasy|Musical' 'Animation|Children|Fantasy'\n",
      " 'Action|Adventure|Comedy|Drama|War' 'Crime|Drama|Western'\n",
      " 'Comedy|Crime|Drama|Fantasy' 'Drama|Film-Noir|Mystery|Romance'\n",
      " 'Musical|Romance|War' 'Adventure|Comedy|Fantasy|Sci-Fi'\n",
      " 'Drama|Fantasy|Musical' 'Action|Crime|Sci-Fi|Thriller'\n",
      " 'Adventure|Animation|Children|Comedy|Crime|Fantasy|Mystery'\n",
      " 'Action|Adventure|Animation|Drama|Fantasy'\n",
      " 'Adventure|Animation|Children|Fantasy|Sci-Fi'\n",
      " 'Fantasy|Horror|Mystery|Romance' 'Action|Fantasy|Horror|Mystery|Thriller'\n",
      " 'Drama|Romance|Sci-Fi' 'Animation|Children|Musical|IMAX'\n",
      " 'Action|Comedy|Horror' 'Action|Crime|Thriller|Western'\n",
      " 'Fantasy|Horror|Mystery|Thriller' 'Romance|Western'\n",
      " 'Adventure|Crime|Drama|Romance' 'Adventure|Crime|Drama'\n",
      " 'Animation|Comedy' 'Action|Children|Comedy|Fantasy|Sci-Fi'\n",
      " 'Action|Children|Fantasy' 'Action|Adventure|Drama|Thriller|Western'\n",
      " 'Crime|Horror|Mystery|Thriller' 'Action|Adventure|Comedy|Western'\n",
      " 'Action|Drama|Thriller|Western' 'Adventure|Animation|Fantasy|Sci-Fi'\n",
      " 'Comedy|Horror|Sci-Fi|Thriller' 'Adventure|Drama|Romance|Sci-Fi'\n",
      " 'Film-Noir|Horror|Mystery|Thriller'\n",
      " 'Action|Adventure|Animation|Children|Sci-Fi'\n",
      " 'Action|Fantasy|Horror|Sci-Fi|Thriller' 'Action|Comedy|Crime|Romance'\n",
      " 'Adventure|Horror|Sci-Fi' 'Adventure|Animation|Children|Sci-Fi'\n",
      " 'Adventure|Comedy|Crime' 'Action|Drama|War|Western'\n",
      " 'Action|Crime|Mystery|Romance|Thriller' 'Romance|Sci-Fi'\n",
      " 'Fantasy|Romance' 'Action|Adventure|Fantasy|Sci-Fi'\n",
      " 'Adventure|Comedy|Horror' 'Animation|Comedy|Fantasy'\n",
      " 'Action|Adventure|War' 'Action|Crime|Drama|Horror|Thriller'\n",
      " 'Crime|Mystery' 'Adventure|Comedy|Mystery|Romance'\n",
      " 'Adventure|Animation|Children|Comedy|Fantasy|Romance'\n",
      " 'Adventure|War|Western' 'Comedy|Drama|Mystery|Thriller'\n",
      " 'Comedy|Drama|Romance|Western' 'Action|Comedy|Sci-Fi|Thriller'\n",
      " 'Adventure|Documentary|IMAX' 'Animation|Drama|Sci-Fi|IMAX'\n",
      " 'Action|Comedy|Horror|Sci-Fi' 'Comedy|Musical|Sci-Fi'\n",
      " 'Drama|Musical|Mystery' 'Crime|Musical' 'Comedy|Musical|Western'\n",
      " 'Action|Animation|Comedy|Crime|Drama|Romance|Thriller'\n",
      " 'Action|Adventure|Drama|Romance' 'Comedy|Fantasy|Horror|Musical|Thriller'\n",
      " 'Crime|Horror|Mystery' 'Action|Adventure|Drama|Romance|Thriller'\n",
      " 'Action|Comedy|Romance|War' 'Action|Adventure|Comedy|Drama'\n",
      " 'Adventure|Thriller' 'Crime|Drama|Film-Noir|Mystery|Thriller'\n",
      " 'Action|Animation|Sci-Fi' 'Animation|Drama|Fantasy'\n",
      " 'Drama|Fantasy|Mystery|Sci-Fi' 'Drama|Fantasy|Horror|Thriller|War'\n",
      " 'Fantasy|Mystery|Thriller'\n",
      " 'Action|Adventure|Comedy|Drama|Romance|Thriller'\n",
      " 'Mystery|Romance|Sci-Fi|Thriller' 'Adventure|Crime|Drama|Thriller'\n",
      " 'Comedy|Drama|Mystery' 'Animation|Fantasy'\n",
      " 'Drama|Fantasy|Horror|Mystery|Thriller'\n",
      " 'Drama|Fantasy|Mystery|Romance|Thriller'\n",
      " 'Animation|Fantasy|Horror|Sci-Fi' 'Documentary|War'\n",
      " 'Children|Horror|Mystery|Thriller' 'Musical|Western'\n",
      " 'Action|Adventure|Sci-Fi|IMAX' 'Adventure|Animation|Children|Western'\n",
      " 'Adventure|Children|Comedy|Fantasy|Mystery'\n",
      " 'Adventure|Drama|Horror|Mystery|Thriller' 'Comedy|Sci-Fi|Thriller'\n",
      " 'Action|Animation|Children|Comedy' 'Children|Drama|Musical'\n",
      " 'Comedy|Drama|Fantasy|Sci-Fi' 'Action|Adventure|Fantasy|Romance'\n",
      " 'Comedy|Crime|Romance|Thriller' 'Adventure|War'\n",
      " 'Comedy|Crime|Musical|Mystery' 'Adventure|Animation|Fantasy'\n",
      " 'Animation|Comedy|War' 'Action|Adventure|Comedy|Crime|Drama'\n",
      " 'Animation|Drama|War' 'Documentary|Horror' 'Action|Horror|Mystery|Sci-Fi'\n",
      " 'Action|Comedy|Documentary' 'Adventure|Animation|Children|Sci-Fi|IMAX'\n",
      " 'Comedy|Drama|Horror' 'Animation|Children|Drama|Fantasy'\n",
      " 'Comedy|Crime|Drama|Musical' 'Action|Adventure|Animation|Fantasy|Sci-Fi'\n",
      " 'Action|Adventure|Crime|Drama|Thriller' 'Comedy|Crime|Drama|Romance'\n",
      " 'Comedy|Documentary|Musical' 'Action|Animation|Sci-Fi|Thriller'\n",
      " 'Adventure|Children|Comedy|Mystery' 'Mystery|Sci-Fi'\n",
      " 'Adventure|Children|Comedy|Fantasy|Musical'\n",
      " 'Action|Adventure|Animation|Children|Fantasy|Sci-Fi'\n",
      " 'Action|Adventure|Sci-Fi|Thriller|IMAX'\n",
      " 'Action|Drama|Horror|Sci-Fi|Thriller' 'Drama|War|Western'\n",
      " 'Comedy|Crime|Mystery|Romance' 'Comedy|War|Western'\n",
      " 'Action|Adventure|Comedy|Crime|Thriller' 'Action|Fantasy|Sci-Fi'\n",
      " 'Action|Comedy|Thriller' 'Comedy|Crime|Drama|War'\n",
      " 'Adventure|Comedy|Crime|Thriller' 'Action|Adventure|Children|Fantasy'\n",
      " 'Drama|Fantasy|Musical|Romance' 'Animation|Drama|Romance'\n",
      " 'Comedy|Romance|Sci-Fi|Thriller' 'Action|Fantasy|Horror'\n",
      " 'Fantasy|Horror|Sci-Fi|Thriller' 'Comedy|Musical|Romance|Western'\n",
      " 'Drama|Fantasy|Sci-Fi' 'Children|Comedy|Crime|Musical'\n",
      " 'Action|Adventure|Animation|Fantasy' 'Crime|Documentary'\n",
      " 'Adventure|Comedy|Drama|Fantasy|Mystery|Sci-Fi|Thriller'\n",
      " 'Action|Animation|Children|Fantasy' 'Comedy|Mystery|Sci-Fi'\n",
      " 'Adventure|Thriller|Western' 'Comedy|Crime|Drama|Mystery|Romance'\n",
      " 'Action|Crime|Fantasy|Sci-Fi|Thriller' 'Crime|Fantasy|Horror'\n",
      " 'Action|Drama|Horror|Thriller' 'Comedy|Fantasy|Horror|Thriller'\n",
      " 'Action|Drama|Romance|Western' 'Adventure|Animation|Drama|Fantasy|Sci-Fi'\n",
      " 'Animation|Drama|Sci-Fi|War' 'Action|Adventure|Drama|Fantasy'\n",
      " 'Adventure|Drama|Romance|Thriller|War'\n",
      " 'Crime|Drama|Film-Noir|Romance|Thriller' 'Drama|Film-Noir|Mystery'\n",
      " 'Action|Comedy|Crime|Drama|Horror|Thriller' 'Adventure|Documentary'\n",
      " 'Action|Adventure|Children|Comedy|Crime'\n",
      " 'Animation|Comedy|Fantasy|Musical'\n",
      " 'Action|Adventure|Children|Comedy|Mystery' 'Action|Drama|Horror'\n",
      " 'Musical|Romance|Western' 'Action|Drama|Thriller|War'\n",
      " 'Comedy|Crime|Drama|Musical|Mystery|Romance' 'Adventure|Comedy|War'\n",
      " 'Fantasy|Musical|Romance' 'Drama|Thriller|Western' 'Crime|Horror|Sci-Fi'\n",
      " 'Animation|Fantasy|Thriller' 'Children|Comedy|Fantasy|Sci-Fi' 'Mystery'\n",
      " 'Action|Adventure|Animation|Comedy|Crime|Mystery'\n",
      " 'Adventure|Animation|Children|Comedy|Musical|Romance'\n",
      " 'Action|Adventure|Drama|Sci-Fi|Thriller' 'Adventure|Fantasy|IMAX'\n",
      " 'Action|Crime|Horror|Mystery|Thriller' 'Comedy|Fantasy|Thriller'\n",
      " 'Animation|Comedy|Drama|Fantasy|Sci-Fi' 'Comedy|Documentary|Drama'\n",
      " 'Crime|Drama|Film-Noir|Romance'\n",
      " 'Action|Adventure|Drama|Romance|Thriller|Western' 'Crime|Drama|Horror'\n",
      " 'Adventure|Comedy|Fantasy|Musical' 'Adventure|Animation|Drama'\n",
      " 'Comedy|Drama|Fantasy|Mystery' 'Action|Crime|Fantasy'\n",
      " 'Comedy|Drama|Sci-Fi|War' 'Adventure|Fantasy|Sci-Fi'\n",
      " 'Adventure|Drama|Horror|Sci-Fi|Thriller'\n",
      " 'Action|Adventure|Animation|Comedy'\n",
      " 'Action|Adventure|Animation|Children|Comedy'\n",
      " 'Adventure|Animation|Children|Fantasy|IMAX'\n",
      " 'Action|Adventure|Drama|Mystery|Thriller'\n",
      " 'Action|Fantasy|Horror|Thriller' 'Fantasy' 'Crime|Documentary|War'\n",
      " 'Children|Comedy|Musical|Romance' 'Drama|Horror|War'\n",
      " 'Action|Adventure|Comedy|Drama|Romance|War' 'Fantasy|Western'\n",
      " 'Adventure|Comedy|Horror|Romance'\n",
      " 'Action|Adventure|Animation|Children|Comedy|Fantasy'\n",
      " 'Action|Adventure|Children|Crime|Mystery|Thriller'\n",
      " 'Adventure|Children|Fantasy|Sci-Fi' 'Action|Fantasy|Horror|Romance'\n",
      " 'Animation|Fantasy|Mystery'\n",
      " 'Action|Animation|Crime|Drama|Film-Noir|Mystery|Sci-Fi|Thriller'\n",
      " 'Animation|Drama' 'Action|Fantasy|Sci-Fi|Thriller|War'\n",
      " 'Adventure|Animation|Comedy|Fantasy|Romance' 'Drama|Romance|Thriller|War'\n",
      " 'Adventure|Drama|Fantasy|Horror|Sci-Fi'\n",
      " 'Drama|Fantasy|Horror|Mystery|Sci-Fi|Thriller' 'Action|Animation'\n",
      " 'Adventure|Animation|Children|Musical|Romance'\n",
      " 'Action|Documentary|Drama|Thriller'\n",
      " 'Action|Adventure|Comedy|Sci-Fi|Thriller'\n",
      " 'Action|Adventure|Drama|Fantasy|Romance'\n",
      " 'Action|Animation|Drama|Fantasy|Sci-Fi' 'Drama|Fantasy|Romance|Sci-Fi'\n",
      " 'Action|Animation|Crime|Sci-Fi|Thriller'\n",
      " 'Drama|Horror|Mystery|Romance|Thriller'\n",
      " 'Action|Comedy|Crime|Fantasy|Thriller' 'Crime|Drama|Mystery|Thriller|War'\n",
      " 'Comedy|Drama|Romance|Sci-Fi' 'Action|Animation|Horror'\n",
      " 'Comedy|Crime|Horror|Mystery|Thriller' 'Comedy|Fantasy|Mystery|Sci-Fi'\n",
      " 'Comedy|Crime|Drama|Sci-Fi|Thriller' 'Action|Comedy|Horror|Musical'\n",
      " 'Drama|Sci-Fi|War' 'Action|Animation|Drama|Sci-Fi'\n",
      " 'Action|Comedy|Horror|Sci-Fi|Thriller|Western' 'Action|Comedy|Drama|War'\n",
      " 'Drama|Mystery|Romance|War' 'Action|Animation|Drama|Sci-Fi|Thriller'\n",
      " 'Children|Comedy|Crime|Drama|Fantasy' 'Action|Horror|Sci-Fi|War'\n",
      " 'Animation|Drama|Mystery|Sci-Fi|Thriller' 'Action|Drama|Fantasy|Sci-Fi'\n",
      " 'Comedy|Crime|Drama|Horror|Mystery'\n",
      " 'Adventure|Children|Comedy|Fantasy|IMAX' 'Animation|Documentary'\n",
      " 'Drama|Horror|Mystery|Sci-Fi|Thriller' 'Animation|Fantasy|Sci-Fi|War'\n",
      " 'Action|Animation|Fantasy|Sci-Fi' 'Action|Adventure|Crime|Drama'\n",
      " 'Action|Adventure|Comedy|Crime|Romance|Thriller'\n",
      " 'Action|Adventure|Drama|Romance|War'\n",
      " 'Adventure|Animation|Fantasy|Romance'\n",
      " 'Action|Fantasy|Horror|Mystery|Sci-Fi|Thriller'\n",
      " 'Adventure|Comedy|Crime|Drama|Mystery|Thriller'\n",
      " 'Comedy|Crime|Drama|Mystery' 'Comedy|Crime|Musical'\n",
      " 'Adventure|Animation|Children|Comedy|Fantasy|Sci-Fi|IMAX'\n",
      " 'Adventure|Comedy|Documentary' 'Comedy|Crime|Drama|Western'\n",
      " 'Adventure|Drama|War|Western' 'Animation|Fantasy|Sci-Fi|Thriller'\n",
      " 'Action|Crime|Film-Noir|Mystery|Thriller' 'Animation|Comedy|Sci-Fi'\n",
      " 'Animation|Fantasy|Horror' 'Children|Documentary' 'Action|Crime|IMAX'\n",
      " 'Adventure|Animation|Children|Comedy|Fantasy|War'\n",
      " 'Action|Adventure|Horror|Mystery|Sci-Fi|Thriller'\n",
      " 'Action|Crime|Drama|Thriller|War' 'Fantasy|Mystery|Romance|Thriller'\n",
      " 'Crime|Drama|Horror|Thriller' 'Animation|Comedy|Fantasy|Musical|Romance'\n",
      " 'Adventure|Children|Drama|Fantasy' 'Action|Horror|Mystery|Thriller'\n",
      " 'Adventure|Comedy|Fantasy|Horror'\n",
      " 'Action|Adventure|Animation|Children|Comedy|Sci-Fi'\n",
      " 'Adventure|Drama|Horror|Thriller' 'Adventure|Fantasy|Thriller|IMAX'\n",
      " 'Crime|Drama|Thriller|War' 'Action|Adventure|Comedy|Drama|Romance'\n",
      " 'Animation|Drama|Romance|Sci-Fi' 'Fantasy|Mystery|Western'\n",
      " 'Adventure|Comedy|Drama|Fantasy' 'Action|Comedy|Crime|Western'\n",
      " 'Action|Crime|Drama|Horror' 'Action|Fantasy|Sci-Fi|Thriller'\n",
      " 'Action|Drama|Fantasy|Horror|Mystery|Sci-Fi|Thriller'\n",
      " 'Action|Animation|Children|Sci-Fi' 'Action|Sci-Fi|Thriller|IMAX'\n",
      " 'Comedy|Fantasy|Horror|Sci-Fi' 'Action|Crime|Mystery'\n",
      " 'Crime|Drama|Film-Noir|Mystery'\n",
      " 'Action|Animation|Film-Noir|Sci-Fi|Thriller'\n",
      " 'Action|Adventure|Thriller|IMAX' 'Adventure|Comedy|Drama|Fantasy|Romance'\n",
      " 'Children|Comedy|Drama|Musical|Romance' 'Comedy|Documentary|Romance'\n",
      " 'Animation|Children|Fantasy|Mystery' 'Comedy|Fantasy|Mystery'\n",
      " 'Action|Comedy|Fantasy|IMAX'\n",
      " 'Adventure|Animation|Children|Comedy|Fantasy|IMAX'\n",
      " 'Adventure|Animation|Comedy|Fantasy|Romance|Sci-Fi' 'Crime|Drama|Musical'\n",
      " 'Adventure|Comedy|Sci-Fi|Thriller'\n",
      " 'Adventure|Animation|Children|Comedy|IMAX' 'Documentary|Drama|War'\n",
      " 'Crime|Western' 'Action|Adventure|Crime|Drama|Thriller|War'\n",
      " 'Children|Comedy|Drama|Fantasy' 'Drama|Fantasy|Horror|Romance'\n",
      " 'Action|Fantasy|Thriller' 'Action|Comedy|Crime|Mystery'\n",
      " 'Action|Comedy|Drama|Horror|Thriller' 'Action|Fantasy|War|IMAX'\n",
      " 'Comedy|Drama|Horror|Sci-Fi|Thriller' 'Drama|Fantasy|Mystery|Thriller'\n",
      " 'Action|Crime|Horror|Sci-Fi|Thriller' 'Adventure|Drama|Sci-Fi|Thriller'\n",
      " 'Action|Adventure|Animation|Comedy|Fantasy|Mystery|Sci-Fi'\n",
      " 'Crime|Drama|Fantasy|Mystery|Thriller' 'Action|Crime|Horror|Thriller'\n",
      " 'Animation|Mystery|Sci-Fi' 'Adventure|Crime|Thriller'\n",
      " 'Action|Adventure|Crime|Horror|Thriller' 'Adventure|Drama|Fantasy|IMAX'\n",
      " 'Adventure|Comedy|Fantasy|Romance' 'Action|Adventure|Fantasy|War'\n",
      " 'Action|Crime|Drama|Western' 'Action|Adventure|Comedy|Drama|Thriller'\n",
      " 'Action|Adventure|Animation|Crime|Fantasy'\n",
      " 'Action|Adventure|Animation|Fantasy|IMAX' 'Comedy|Drama|Sci-Fi|Thriller'\n",
      " 'Adventure|Animation|Children|Comedy|Fantasy|Musical|Romance'\n",
      " 'Action|Horror|Sci-Fi|Thriller|IMAX' 'Drama|Horror|Musical|Thriller'\n",
      " 'Action|Mystery|Sci-Fi|Thriller' 'Adventure|Animation|Drama|Horror'\n",
      " 'Animation|Comedy|Drama|Romance|Sci-Fi' 'Crime|Sci-Fi'\n",
      " 'Adventure|Children|Drama|Fantasy|IMAX' 'Adventure|Romance|Thriller'\n",
      " 'Crime|Drama|War' 'Action|Crime|Drama|IMAX' 'Documentary|Musical|IMAX'\n",
      " 'Action|Children|Sci-Fi|IMAX' 'Action|Animation|Children|Comedy|IMAX'\n",
      " 'Comedy|Crime|Drama|Horror' 'Action|Comedy|Drama|Thriller'\n",
      " 'Adventure|Animation|Children|Romance|Sci-Fi'\n",
      " 'Action|Adventure|Comedy|Crime|Fantasy'\n",
      " 'Action|Animation|Comedy|Romance|Sci-Fi' 'Children|Comedy|Drama|Mystery'\n",
      " 'Animation|Children|Comedy|Fantasy|Musical'\n",
      " 'Action|Adventure|Horror|Sci-Fi|Thriller'\n",
      " 'Adventure|Children|Comedy|Romance|Sci-Fi'\n",
      " 'Action|Comedy|Fantasy|Horror|Thriller'\n",
      " 'Action|Drama|Mystery|Sci-Fi|Thriller|IMAX' 'Adventure|Fantasy|Thriller'\n",
      " 'Action|Animation|Crime' 'Adventure|Comedy|Drama|Romance'\n",
      " 'Animation|Documentary|Drama|War' 'Action|Comedy|Fantasy|Thriller'\n",
      " 'Action|Animation|Comedy|Horror' 'Action|Crime|Thriller|IMAX'\n",
      " 'Animation|Comedy|Fantasy|Sci-Fi'\n",
      " 'Action|Adventure|Animation|Comedy|Fantasy|Sci-Fi'\n",
      " 'Action|Adventure|Animation|Children|Comedy|IMAX'\n",
      " 'Children|Fantasy|Musical|Romance' 'Drama|Fantasy|Romance|Thriller'\n",
      " 'Adventure|Animation|Comedy|Fantasy' 'Drama|Sci-Fi|Thriller|IMAX'\n",
      " 'Action|Adventure|Animation' 'Action|Animation|Comedy|Sci-Fi' 'Animation'\n",
      " 'Adventure|Comedy|Mystery' 'Comedy|Drama|Musical|Sci-Fi'\n",
      " 'Comedy|Crime|Horror|Thriller' 'Action|Drama|Mystery|Sci-Fi|Thriller'\n",
      " 'Animation|Sci-Fi|IMAX' 'Drama|Fantasy|Sci-Fi|Thriller'\n",
      " 'Action|Comedy|IMAX' 'Adventure|Fantasy|Musical|Romance'\n",
      " 'Action|Animation|Mystery|Sci-Fi' 'Action|Adventure|Animation|Drama'\n",
      " 'Action|Adventure|Comedy|Horror'\n",
      " 'Action|Adventure|Animation|Children|Comedy|Romance'\n",
      " 'Action|Adventure|Animation|Horror'\n",
      " 'Adventure|Fantasy|Mystery|Romance|IMAX'\n",
      " 'Adventure|Children|Fantasy|Sci-Fi|Thriller'\n",
      " 'Comedy|Documentary|Drama|Romance' 'Adventure|Animation|Sci-Fi'\n",
      " 'Animation|Children|Fantasy|IMAX'\n",
      " 'Action|Animation|Comedy|Horror|Thriller' 'Animation|Comedy|Drama'\n",
      " 'Action|Adventure|Drama|Fantasy|Romance|Sci-Fi|Thriller'\n",
      " 'Action|Comedy|Drama|Romance' 'Adventure|Animation|Children|Comedy|Crime'\n",
      " 'Animation|Children|Drama|Fantasy|IMAX'\n",
      " 'Animation|Children|Comedy|Fantasy'\n",
      " 'Drama|Fantasy|Horror|Romance|Thriller'\n",
      " 'Action|Adventure|Animation|Comedy|Thriller'\n",
      " 'Crime|Drama|Fantasy|Horror|Thriller' 'Children|Drama|Romance'\n",
      " 'Horror|Thriller|Western' 'Comedy|Musical|Sci-Fi|Western'\n",
      " 'Action|Adventure|Fantasy|Romance|IMAX' 'Fantasy|Romance|Thriller|IMAX'\n",
      " 'Action|Crime|Drama|Mystery|Sci-Fi|Thriller|IMAX' 'Action|Children|Drama'\n",
      " 'Action|Comedy|Fantasy|Musical|Romance' 'Documentary|Drama|Mystery'\n",
      " 'Adventure|Animation|Fantasy|IMAX' 'Documentary|Mystery'\n",
      " 'Action|Adventure|Comedy|Crime|Drama|Film-Noir|Horror|Mystery|Thriller|Western'\n",
      " 'Horror|IMAX' 'Action|Animation|Children|Comedy|Sci-Fi|IMAX'\n",
      " 'Action|Adventure|Fantasy|IMAX'\n",
      " 'Animation|Children|Comedy|Fantasy|Musical|Romance|IMAX' 'Crime|Romance'\n",
      " 'Adventure|Documentary|Western'\n",
      " 'Action|Comedy|Crime|Fantasy|Thriller|IMAX' 'Action|Fantasy|Western'\n",
      " 'Action|Sci-Fi|Thriller|Western|IMAX'\n",
      " 'Action|Adventure|Animation|Children|Comedy|Western'\n",
      " 'Romance|Sci-Fi|Thriller' 'Adventure|Animation|Comedy|Sci-Fi'\n",
      " 'Action|Adventure|Animation|Children|Comedy|Sci-Fi|IMAX'\n",
      " 'Action|Fantasy|Thriller|IMAX' 'Animation|Children|Comedy|Horror'\n",
      " 'Action|Adventure|Drama|Fantasy|IMAX' 'Action|Crime|Drama|Thriller|IMAX'\n",
      " 'Drama|Mystery|War' 'Action|Adventure|Sci-Fi|Thriller|War'\n",
      " 'Mystery|Sci-Fi|Thriller|IMAX' 'Action|Adventure|Sci-Fi|War|IMAX'\n",
      " 'Action|Adventure|Drama|Fantasy|Mystery|IMAX' 'Horror|Thriller|IMAX'\n",
      " 'Sci-Fi|Thriller|IMAX' 'Action|Drama|Sci-Fi|IMAX' 'Crime|Sci-Fi|Thriller'\n",
      " 'Action|Drama|Mystery|Thriller' 'Adventure|Animation|Comedy|Fantasy|IMAX'\n",
      " 'Action|Animation|Mystery|IMAX' 'Children|Drama|Mystery'\n",
      " 'Action|Drama|Fantasy' 'Animation|Children|Comedy|IMAX'\n",
      " 'Animation|Children|Comedy|Drama' 'Action|Crime|Film-Noir'\n",
      " 'Action|Adventure|Crime|IMAX' 'Action|Adventure|Drama|Thriller|IMAX'\n",
      " 'Action|Adventure|Comedy|Crime|Mystery|Thriller'\n",
      " 'Action|Fantasy|Horror|IMAX' 'Crime|Drama|Fantasy'\n",
      " 'Action|Adventure|Comedy|Sci-Fi|IMAX' 'Action|Adventure|Horror'\n",
      " 'Crime|Thriller|Western' 'Animation|Fantasy|Musical|IMAX'\n",
      " 'Action|Animation|Fantasy' 'Comedy|Horror|IMAX'\n",
      " 'Action|Comedy|Sci-Fi|IMAX' 'Action|Horror|Sci-Fi|IMAX'\n",
      " 'Action|Adventure|Animation|Children'\n",
      " 'Action|Adventure|Animation|Sci-Fi|Thriller' 'Comedy|Drama|Musical|IMAX'\n",
      " 'Children|Musical|Mystery' 'Drama|Fantasy|Musical|Mystery|Sci-Fi'\n",
      " 'Animation|Comedy|Horror|IMAX' 'Drama|Sci-Fi|IMAX'\n",
      " 'Action|Adventure|Comedy|Documentary|Fantasy' 'Action|Adventure|Crime'\n",
      " 'Children|Crime|Drama' 'Adventure|Drama|Fantasy|Romance|IMAX'\n",
      " 'Animation|Comedy|Romance' 'Drama|Musical|Romance|IMAX'\n",
      " 'Adventure|Comedy|Fantasy|Romance|IMAX' 'Animation|Comedy|Horror|Musical'\n",
      " 'Action|Animation|Comedy' 'Children|Horror|Sci-Fi' 'Action|Drama|IMAX'\n",
      " 'Documentary|Fantasy' 'Action|Adventure|Fantasy|Sci-Fi|IMAX'\n",
      " 'Action|Drama|Horror|IMAX' 'Action|Drama|Thriller|IMAX'\n",
      " 'Action|Adventure|Western|IMAX' 'Drama|Fantasy|Thriller|War'\n",
      " 'Action|IMAX' 'Action|Sci-Fi|IMAX' 'Adventure|Comedy|Musical|Sci-Fi'\n",
      " 'Adventure|Drama|Thriller|IMAX' 'Children|Drama|War'\n",
      " 'Adventure|Animation|Comedy|Fantasy|Musical|Romance'\n",
      " 'Action|Animation|Drama' 'Drama|Horror|Romance'\n",
      " 'Action|Animation|Fantasy|IMAX' 'Adventure|Romance|Sci-Fi|IMAX'\n",
      " 'Adventure|Animation|Children|Comedy|Drama|Romance'\n",
      " 'Action|Fantasy|Sci-Fi|IMAX' 'Action|Crime|Sci-Fi|IMAX'\n",
      " 'Animation|Comedy|Drama|Romance' 'Sci-Fi|IMAX' 'Animation|Romance'\n",
      " 'Action|Drama|War|IMAX' 'Action|Animation|Children|Comedy|Musical'\n",
      " 'Action|Adventure|Children|IMAX' 'Action|Animation|Children'\n",
      " 'Animation|Drama|Fantasy|Mystery' 'Action|Animation|Crime|Thriller'\n",
      " 'Documentary|Drama|Musical' '(no genres listed)' 'Adventure|Animation'\n",
      " 'Adventure|Animation|Romance' 'Animation|Children|Comedy|Musical|Sci-Fi'\n",
      " 'Action|Adventure|Comedy|Drama|Fantasy|Thriller'\n",
      " 'Documentary|Drama|Thriller' 'Adventure|Mystery|Thriller'\n",
      " 'Horror|Romance|Thriller' 'Animation|Children|Mystery'\n",
      " 'Comedy|Drama|Fantasy|Mystery|Romance' 'Crime|Drama|Horror|Mystery'\n",
      " 'Adventure|Romance|Sci-Fi' 'Horror|Sci-Fi|Western'\n",
      " 'Action|Adventure|Children|Comedy|Sci-Fi'\n",
      " 'Action|Adventure|Animation|Comedy|Sci-Fi' 'Horror|Romance|Sci-Fi'\n",
      " 'Action|Adventure|Children|Mystery|Sci-Fi' 'Comedy|Crime|Sci-Fi'\n",
      " 'Action|Comedy|Fantasy|Sci-Fi'\n",
      " 'Adventure|Animation|Children|Comedy|Drama|Fantasy'\n",
      " 'Adventure|Children|Comedy|Sci-Fi' 'Action|Animation|Crime|Sci-Fi'\n",
      " 'Action|Adventure|Romance|Sci-Fi' 'Action|Crime|Drama|Sci-Fi'\n",
      " 'Animation|Children|Comedy|Drama|Romance' 'Action|Fantasy|Mystery'\n",
      " 'Comedy|Horror|Mystery' 'Comedy|Crime|Fantasy' 'Animation|Horror|Mystery'\n",
      " 'Comedy|Romance|Western' 'Adventure|Drama|Fantasy|Sci-Fi'\n",
      " 'Adventure|Children|Drama|Sci-Fi'\n",
      " 'Adventure|Children|Comedy|Drama|Fantasy|Sci-Fi'\n",
      " 'Animation|Fantasy|Horror|Mystery'\n",
      " 'Adventure|Animation|Fantasy|Horror|Sci-Fi'\n",
      " 'Action|Animation|Crime|Drama'\n",
      " 'Action|Adventure|Animation|Drama|Fantasy|Sci-Fi'\n",
      " 'Action|Animation|Mystery' 'Animation|Drama|Sci-Fi'\n",
      " 'Animation|Drama|Fantasy|Romance'\n",
      " 'Action|Adventure|Comedy|Fantasy|Sci-Fi|Thriller'\n",
      " 'Action|Adventure|Fantasy|Horror|Thriller' 'Comedy|Sci-Fi|War'\n",
      " 'Comedy|Mystery|Romance|Thriller' 'Fantasy|Horror|Sci-Fi|Western'\n",
      " 'Animation|Crime|Drama' 'Adventure|Mystery|Sci-Fi|Thriller'\n",
      " 'Action|Comedy|Crime|Horror' 'Action|Adventure|Children|Sci-Fi'\n",
      " 'Action|Adventure|Comedy|Fantasy|Sci-Fi'\n",
      " 'Action|Animation|Comedy|Fantasy']\n",
      "[4.  5.  3.  2.  1.  4.5 3.5 2.5 0.5 1.5]\n",
      "['funny' 'Highly quotable' 'will ferrell' ... 'gun fu' 'heroic bloodshed'\n",
      " 'Heroic Bloodshed']\n"
     ]
    }
   ],
   "source": [
    "print(movies['genres'].unique())\n",
    "print(ratings['rating'].unique())\n",
    "print(tags['tag'].unique())"
   ]
  },
  {
   "cell_type": "code",
   "execution_count": 3,
   "id": "f0b0a243",
   "metadata": {},
   "outputs": [
    {
     "name": "stdout",
     "output_type": "stream",
     "text": [
      "movieId    0\n",
      "title      0\n",
      "genres     0\n",
      "dtype: int64\n",
      "userId       0\n",
      "movieId      0\n",
      "rating       0\n",
      "timestamp    0\n",
      "dtype: int64\n",
      "userId       0\n",
      "movieId      0\n",
      "tag          0\n",
      "timestamp    0\n",
      "dtype: int64\n"
     ]
    }
   ],
   "source": [
    "print(movies.isnull().sum())\n",
    "print(ratings.isnull().sum())\n",
    "print(tags.isnull().sum())"
   ]
  },
  {
   "cell_type": "code",
   "execution_count": 4,
   "id": "53730650",
   "metadata": {},
   "outputs": [
    {
     "name": "stdout",
     "output_type": "stream",
     "text": [
      "<class 'pandas.core.frame.DataFrame'>\n",
      "RangeIndex: 9742 entries, 0 to 9741\n",
      "Data columns (total 3 columns):\n",
      " #   Column   Non-Null Count  Dtype \n",
      "---  ------   --------------  ----- \n",
      " 0   movieId  9742 non-null   int64 \n",
      " 1   title    9742 non-null   object\n",
      " 2   genres   9742 non-null   object\n",
      "dtypes: int64(1), object(2)\n",
      "memory usage: 228.5+ KB\n",
      "<class 'pandas.core.frame.DataFrame'>\n",
      "RangeIndex: 100836 entries, 0 to 100835\n",
      "Data columns (total 4 columns):\n",
      " #   Column     Non-Null Count   Dtype  \n",
      "---  ------     --------------   -----  \n",
      " 0   userId     100836 non-null  int64  \n",
      " 1   movieId    100836 non-null  int64  \n",
      " 2   rating     100836 non-null  float64\n",
      " 3   timestamp  100836 non-null  int64  \n",
      "dtypes: float64(1), int64(3)\n",
      "memory usage: 3.1 MB\n",
      "<class 'pandas.core.frame.DataFrame'>\n",
      "RangeIndex: 3683 entries, 0 to 3682\n",
      "Data columns (total 4 columns):\n",
      " #   Column     Non-Null Count  Dtype \n",
      "---  ------     --------------  ----- \n",
      " 0   userId     3683 non-null   int64 \n",
      " 1   movieId    3683 non-null   int64 \n",
      " 2   tag        3683 non-null   object\n",
      " 3   timestamp  3683 non-null   int64 \n",
      "dtypes: int64(3), object(1)\n",
      "memory usage: 115.2+ KB\n"
     ]
    }
   ],
   "source": [
    "# Cek Struktur dan Tipe Data\n",
    "movies.info()\n",
    "ratings.info()\n",
    "tags.info()"
   ]
  },
  {
   "cell_type": "code",
   "execution_count": 5,
   "id": "0be065f8",
   "metadata": {},
   "outputs": [
    {
     "data": {
      "image/png": "[encoded data removed]",
      "text/plain": [
       "<Figure size 800x500 with 1 Axes>"
      ]
     },
     "metadata": {},
     "output_type": "display_data"
    }
   ],
   "source": [
    "# distribusi rating\n",
    "import matplotlib.pyplot as plt\n",
    "import seaborn as sns\n",
    "\n",
    "plt.figure(figsize=(8, 5))\n",
    "sns.histplot(ratings['rating'], bins=10, kde=True)\n",
    "plt.title(\"Distribusi Rating\")\n",
    "plt.xlabel(\"Rating\")\n",
    "plt.ylabel(\"Jumlah\")\n",
    "plt.show()"
   ]
  },
  {
   "cell_type": "code",
   "execution_count": 6,
   "id": "7db3919c",
   "metadata": {},
   "outputs": [
    {
     "data": {
      "image/png": "[encoded data removed]",
      "text/plain": [
       "<Figure size 800x500 with 1 Axes>"
      ]
     },
     "metadata": {},
     "output_type": "display_data"
    }
   ],
   "source": [
    "# Hitung jumlah genre per film\n",
    "movies['genre_count'] = movies['genres'].apply(lambda x: len(x.split('|')) if pd.notnull(x) else 0)\n",
    "\n",
    "# Plot distribusi jumlah genre per film\n",
    "plt.figure(figsize=(8, 5))\n",
    "sns.histplot(movies['genre_count'], bins=10)\n",
    "plt.title(\"Jumlah Genre per Film\")\n",
    "plt.xlabel(\"Jumlah Genre\")\n",
    "plt.ylabel(\"Jumlah Film\")\n",
    "plt.show()"
   ]
  },
  {
   "cell_type": "code",
   "execution_count": 7,
   "id": "cf6f3b87",
   "metadata": {},
   "outputs": [
    {
     "name": "stdout",
     "output_type": "stream",
     "text": [
      "\n",
      "Statistik Deskriptif Rating:\n",
      "count    100836.000000\n",
      "mean          3.501557\n",
      "std           1.042529\n",
      "min           0.500000\n",
      "25%           3.000000\n",
      "50%           3.500000\n",
      "75%           4.000000\n",
      "max           5.000000\n",
      "Name: rating, dtype: float64\n"
     ]
    }
   ],
   "source": [
    "# Statistik Deskriptif\n",
    "\n",
    "print(\"\\nStatistik Deskriptif Rating:\")\n",
    "print(ratings['rating'].describe())"
   ]
  },
  {
   "cell_type": "code",
   "execution_count": 8,
   "id": "947ce5b1",
   "metadata": {},
   "outputs": [
    {
     "name": "stdout",
     "output_type": "stream",
     "text": [
      "\n",
      "Distribusi Genre:\n",
      "genres\n",
      "Drama                                        1053\n",
      "Comedy                                        946\n",
      "Comedy|Drama                                  435\n",
      "Comedy|Romance                                363\n",
      "Drama|Romance                                 349\n",
      "                                             ... \n",
      "Children|Drama|Musical                          1\n",
      "Adventure|Drama|Horror|Mystery|Thriller         1\n",
      "Adventure|Children|Comedy|Fantasy|Mystery       1\n",
      "Adventure|Animation|Children|Western            1\n",
      "Comedy|Mystery|Romance|Thriller                 1\n",
      "Name: count, Length: 951, dtype: int64\n"
     ]
    }
   ],
   "source": [
    "# Jumlah genre unik\n",
    "print(\"\\nDistribusi Genre:\")\n",
    "print(movies['genres'].value_counts())"
   ]
  },
  {
   "cell_type": "code",
   "execution_count": 9,
   "id": "5400c830",
   "metadata": {},
   "outputs": [
    {
     "name": "stdout",
     "output_type": "stream",
     "text": [
      "\n",
      "Jumlah User Aktif: 58\n",
      "Top 5 User paling aktif:\n",
      " userId\n",
      "474    1507\n",
      "567     432\n",
      "62      370\n",
      "599     323\n",
      "477     280\n",
      "Name: count, dtype: int64\n"
     ]
    }
   ],
   "source": [
    "# Jumlah user aktif\n",
    "user_activity = tags['userId'].value_counts()\n",
    "print(f\"\\nJumlah User Aktif: {len(user_activity)}\")\n",
    "print(\"Top 5 User paling aktif:\\n\", user_activity.head())"
   ]
  },
  {
   "cell_type": "code",
   "execution_count": 10,
   "id": "60a14636",
   "metadata": {},
   "outputs": [
    {
     "name": "stdout",
     "output_type": "stream",
     "text": [
      "\n",
      "Top 5 Film yang Paling Sering Ditonton:\n",
      "                                                  title  watch_count\n",
      "257                                 Pulp Fiction (1994)          181\n",
      "2226                                  Fight Club (1999)           54\n",
      "706                        2001: A Space Odyssey (1968)           41\n",
      "254   Léon: The Professional (a.k.a. The Professiona...           35\n",
      "4909       Eternal Sunshine of the Spotless Mind (2004)           34\n"
     ]
    }
   ],
   "source": [
    "# Film paling sering ditonton\n",
    "movie_popularity = tags['movieId'].value_counts()\n",
    "top_movies = movies.merge(movie_popularity.rename(\"watch_count\"), left_on='movieId', right_index=True)\n",
    "print(\"\\nTop 5 Film yang Paling Sering Ditonton:\")\n",
    "print(top_movies[['title', 'watch_count']].sort_values(by='watch_count', ascending=False).head())"
   ]
  },
  {
   "cell_type": "markdown",
   "id": "923c8cad",
   "metadata": {},
   "source": [
    "# **DATA PREPARATION**\n"
   ]
  },
  {
   "cell_type": "markdown",
   "id": "33e0142d",
   "metadata": {},
   "source": [
    "---"
   ]
  },
  {
   "cell_type": "markdown",
   "id": "1909f9ac",
   "metadata": {},
   "source": [
    "## Movies\n"
   ]
  },
  {
   "cell_type": "markdown",
   "id": "88b588d0",
   "metadata": {},
   "source": [
    "Pisahkan kolom tahun\n"
   ]
  },
  {
   "cell_type": "code",
   "execution_count": 11,
   "id": "298a2678",
   "metadata": {},
   "outputs": [
    {
     "data": {
      "text/html": [
       "<div>\n",
       "<style scoped>\n",
       "    .dataframe tbody tr th:only-of-type {\n",
       "        vertical-align: middle;\n",
       "    }\n",
       "\n",
       "    .dataframe tbody tr th {\n",
       "        vertical-align: top;\n",
       "    }\n",
       "\n",
       "    .dataframe thead th {\n",
       "        text-align: right;\n",
       "    }\n",
       "</style>\n",
       "<table border=\"1\" class=\"dataframe\">\n",
       "  <thead>\n",
       "    <tr style=\"text-align: right;\">\n",
       "      <th></th>\n",
       "      <th>movieId</th>\n",
       "      <th>title</th>\n",
       "      <th>genres</th>\n",
       "      <th>genre_count</th>\n",
       "      <th>year</th>\n",
       "    </tr>\n",
       "  </thead>\n",
       "  <tbody>\n",
       "    <tr>\n",
       "      <th>0</th>\n",
       "      <td>1</td>\n",
       "      <td>Toy Story</td>\n",
       "      <td>Adventure|Animation|Children|Comedy|Fantasy</td>\n",
       "      <td>5</td>\n",
       "      <td>1995</td>\n",
       "    </tr>\n",
       "    <tr>\n",
       "      <th>1</th>\n",
       "      <td>2</td>\n",
       "      <td>Jumanji</td>\n",
       "      <td>Adventure|Children|Fantasy</td>\n",
       "      <td>3</td>\n",
       "      <td>1995</td>\n",
       "    </tr>\n",
       "    <tr>\n",
       "      <th>2</th>\n",
       "      <td>3</td>\n",
       "      <td>Grumpier Old Men</td>\n",
       "      <td>Comedy|Romance</td>\n",
       "      <td>2</td>\n",
       "      <td>1995</td>\n",
       "    </tr>\n",
       "    <tr>\n",
       "      <th>3</th>\n",
       "      <td>4</td>\n",
       "      <td>Waiting to Exhale</td>\n",
       "      <td>Comedy|Drama|Romance</td>\n",
       "      <td>3</td>\n",
       "      <td>1995</td>\n",
       "    </tr>\n",
       "    <tr>\n",
       "      <th>4</th>\n",
       "      <td>5</td>\n",
       "      <td>Father of the Bride Part II</td>\n",
       "      <td>Comedy</td>\n",
       "      <td>1</td>\n",
       "      <td>1995</td>\n",
       "    </tr>\n",
       "  </tbody>\n",
       "</table>\n",
       "</div>"
      ],
      "text/plain": [
       "   movieId                        title  \\\n",
       "0        1                    Toy Story   \n",
       "1        2                      Jumanji   \n",
       "2        3             Grumpier Old Men   \n",
       "3        4            Waiting to Exhale   \n",
       "4        5  Father of the Bride Part II   \n",
       "\n",
       "                                        genres  genre_count  year  \n",
       "0  Adventure|Animation|Children|Comedy|Fantasy            5  1995  \n",
       "1                   Adventure|Children|Fantasy            3  1995  \n",
       "2                               Comedy|Romance            2  1995  \n",
       "3                         Comedy|Drama|Romance            3  1995  \n",
       "4                                       Comedy            1  1995  "
      ]
     },
     "execution_count": 11,
     "metadata": {},
     "output_type": "execute_result"
    }
   ],
   "source": [
    "movies['year'] = movies['title'].str.extract(r'\\((\\d{4})\\)')\n",
    "movies['title'] = movies['title'].str.replace(r'\\s*\\(\\d{4}\\)', '', regex=True)\n",
    "\n",
    "movies.head()"
   ]
  },
  {
   "cell_type": "code",
   "execution_count": 12,
   "id": "b9698935",
   "metadata": {},
   "outputs": [
    {
     "data": {
      "text/plain": [
       "movieId         0\n",
       "title           0\n",
       "genres          0\n",
       "genre_count     0\n",
       "year           13\n",
       "dtype: int64"
      ]
     },
     "execution_count": 12,
     "metadata": {},
     "output_type": "execute_result"
    }
   ],
   "source": [
    "movies.isnull().sum()"
   ]
  },
  {
   "cell_type": "code",
   "execution_count": 13,
   "id": "762b06f3",
   "metadata": {},
   "outputs": [],
   "source": [
    "movies.dropna(subset=['year'], inplace=True)"
   ]
  },
  {
   "cell_type": "code",
   "execution_count": 14,
   "id": "30d7acbc",
   "metadata": {},
   "outputs": [
    {
     "data": {
      "text/plain": [
       "movieId        0\n",
       "title          0\n",
       "genres         0\n",
       "genre_count    0\n",
       "year           0\n",
       "dtype: int64"
      ]
     },
     "execution_count": 14,
     "metadata": {},
     "output_type": "execute_result"
    }
   ],
   "source": [
    "movies.isnull().sum()"
   ]
  },
  {
   "cell_type": "markdown",
   "id": "33f1b490",
   "metadata": {},
   "source": [
    "One-hot Encoding"
   ]
  },
  {
   "cell_type": "code",
   "execution_count": 15,
   "id": "c6c86538",
   "metadata": {},
   "outputs": [
    {
     "data": {
      "text/html": [
       "<div>\n",
       "<style scoped>\n",
       "    .dataframe tbody tr th:only-of-type {\n",
       "        vertical-align: middle;\n",
       "    }\n",
       "\n",
       "    .dataframe tbody tr th {\n",
       "        vertical-align: top;\n",
       "    }\n",
       "\n",
       "    .dataframe thead th {\n",
       "        text-align: right;\n",
       "    }\n",
       "</style>\n",
       "<table border=\"1\" class=\"dataframe\">\n",
       "  <thead>\n",
       "    <tr style=\"text-align: right;\">\n",
       "      <th></th>\n",
       "      <th>movieId</th>\n",
       "      <th>title</th>\n",
       "      <th>genre_count</th>\n",
       "      <th>year</th>\n",
       "      <th>(no genres listed)</th>\n",
       "      <th>Action</th>\n",
       "      <th>Adventure</th>\n",
       "      <th>Animation</th>\n",
       "      <th>Children</th>\n",
       "      <th>Comedy</th>\n",
       "      <th>...</th>\n",
       "      <th>Film-Noir</th>\n",
       "      <th>Horror</th>\n",
       "      <th>IMAX</th>\n",
       "      <th>Musical</th>\n",
       "      <th>Mystery</th>\n",
       "      <th>Romance</th>\n",
       "      <th>Sci-Fi</th>\n",
       "      <th>Thriller</th>\n",
       "      <th>War</th>\n",
       "      <th>Western</th>\n",
       "    </tr>\n",
       "  </thead>\n",
       "  <tbody>\n",
       "    <tr>\n",
       "      <th>0</th>\n",
       "      <td>1</td>\n",
       "      <td>Toy Story</td>\n",
       "      <td>5</td>\n",
       "      <td>1995</td>\n",
       "      <td>0</td>\n",
       "      <td>0</td>\n",
       "      <td>1</td>\n",
       "      <td>1</td>\n",
       "      <td>1</td>\n",
       "      <td>1</td>\n",
       "      <td>...</td>\n",
       "      <td>0</td>\n",
       "      <td>0</td>\n",
       "      <td>0</td>\n",
       "      <td>0</td>\n",
       "      <td>0</td>\n",
       "      <td>0</td>\n",
       "      <td>0</td>\n",
       "      <td>0</td>\n",
       "      <td>0</td>\n",
       "      <td>0</td>\n",
       "    </tr>\n",
       "    <tr>\n",
       "      <th>1</th>\n",
       "      <td>2</td>\n",
       "      <td>Jumanji</td>\n",
       "      <td>3</td>\n",
       "      <td>1995</td>\n",
       "      <td>0</td>\n",
       "      <td>0</td>\n",
       "      <td>1</td>\n",
       "      <td>0</td>\n",
       "      <td>1</td>\n",
       "      <td>0</td>\n",
       "      <td>...</td>\n",
       "      <td>0</td>\n",
       "      <td>0</td>\n",
       "      <td>0</td>\n",
       "      <td>0</td>\n",
       "      <td>0</td>\n",
       "      <td>0</td>\n",
       "      <td>0</td>\n",
       "      <td>0</td>\n",
       "      <td>0</td>\n",
       "      <td>0</td>\n",
       "    </tr>\n",
       "    <tr>\n",
       "      <th>2</th>\n",
       "      <td>3</td>\n",
       "      <td>Grumpier Old Men</td>\n",
       "      <td>2</td>\n",
       "      <td>1995</td>\n",
       "      <td>0</td>\n",
       "      <td>0</td>\n",
       "      <td>0</td>\n",
       "      <td>0</td>\n",
       "      <td>0</td>\n",
       "      <td>1</td>\n",
       "      <td>...</td>\n",
       "      <td>0</td>\n",
       "      <td>0</td>\n",
       "      <td>0</td>\n",
       "      <td>0</td>\n",
       "      <td>0</td>\n",
       "      <td>1</td>\n",
       "      <td>0</td>\n",
       "      <td>0</td>\n",
       "      <td>0</td>\n",
       "      <td>0</td>\n",
       "    </tr>\n",
       "    <tr>\n",
       "      <th>3</th>\n",
       "      <td>4</td>\n",
       "      <td>Waiting to Exhale</td>\n",
       "      <td>3</td>\n",
       "      <td>1995</td>\n",
       "      <td>0</td>\n",
       "      <td>0</td>\n",
       "      <td>0</td>\n",
       "      <td>0</td>\n",
       "      <td>0</td>\n",
       "      <td>1</td>\n",
       "      <td>...</td>\n",
       "      <td>0</td>\n",
       "      <td>0</td>\n",
       "      <td>0</td>\n",
       "      <td>0</td>\n",
       "      <td>0</td>\n",
       "      <td>1</td>\n",
       "      <td>0</td>\n",
       "      <td>0</td>\n",
       "      <td>0</td>\n",
       "      <td>0</td>\n",
       "    </tr>\n",
       "    <tr>\n",
       "      <th>4</th>\n",
       "      <td>5</td>\n",
       "      <td>Father of the Bride Part II</td>\n",
       "      <td>1</td>\n",
       "      <td>1995</td>\n",
       "      <td>0</td>\n",
       "      <td>0</td>\n",
       "      <td>0</td>\n",
       "      <td>0</td>\n",
       "      <td>0</td>\n",
       "      <td>1</td>\n",
       "      <td>...</td>\n",
       "      <td>0</td>\n",
       "      <td>0</td>\n",
       "      <td>0</td>\n",
       "      <td>0</td>\n",
       "      <td>0</td>\n",
       "      <td>0</td>\n",
       "      <td>0</td>\n",
       "      <td>0</td>\n",
       "      <td>0</td>\n",
       "      <td>0</td>\n",
       "    </tr>\n",
       "  </tbody>\n",
       "</table>\n",
       "<p>5 rows × 24 columns</p>\n",
       "</div>"
      ],
      "text/plain": [
       "   movieId                        title  genre_count  year  \\\n",
       "0        1                    Toy Story            5  1995   \n",
       "1        2                      Jumanji            3  1995   \n",
       "2        3             Grumpier Old Men            2  1995   \n",
       "3        4            Waiting to Exhale            3  1995   \n",
       "4        5  Father of the Bride Part II            1  1995   \n",
       "\n",
       "   (no genres listed)  Action  Adventure  Animation  Children  Comedy  ...  \\\n",
       "0                   0       0          1          1         1       1  ...   \n",
       "1                   0       0          1          0         1       0  ...   \n",
       "2                   0       0          0          0         0       1  ...   \n",
       "3                   0       0          0          0         0       1  ...   \n",
       "4                   0       0          0          0         0       1  ...   \n",
       "\n",
       "   Film-Noir  Horror  IMAX  Musical  Mystery  Romance  Sci-Fi  Thriller  War  \\\n",
       "0          0       0     0        0        0        0       0         0    0   \n",
       "1          0       0     0        0        0        0       0         0    0   \n",
       "2          0       0     0        0        0        1       0         0    0   \n",
       "3          0       0     0        0        0        1       0         0    0   \n",
       "4          0       0     0        0        0        0       0         0    0   \n",
       "\n",
       "   Western  \n",
       "0        0  \n",
       "1        0  \n",
       "2        0  \n",
       "3        0  \n",
       "4        0  \n",
       "\n",
       "[5 rows x 24 columns]"
      ]
     },
     "execution_count": 15,
     "metadata": {},
     "output_type": "execute_result"
    }
   ],
   "source": [
    "# Perform one-hot encoding on the 'genres' column\n",
    "genres_encoded = movies['genres'].str.get_dummies(sep='|')\n",
    "\n",
    "# Combine the one-hot encoded columns back with the original dataframe\n",
    "movies_encoded = pd.concat([movies, genres_encoded], axis=1)\n",
    "\n",
    "movies_encoded.drop('genres', axis=1, inplace=True)\n",
    "\n",
    "# Display the first few rows of the updated dataframe\n",
    "movies_encoded.head()"
   ]
  },
  {
   "cell_type": "markdown",
   "id": "b6aba8e6",
   "metadata": {},
   "source": [
    "Export menjadi file csv"
   ]
  },
  {
   "cell_type": "code",
   "execution_count": 16,
   "id": "9236e863",
   "metadata": {},
   "outputs": [],
   "source": [
    "movies_encoded.to_csv('movies_processed.csv', index=False)"
   ]
  },
  {
   "cell_type": "markdown",
   "id": "ab8ba49b",
   "metadata": {},
   "source": [
    "## Tags"
   ]
  },
  {
   "cell_type": "code",
   "execution_count": 17,
   "id": "95a9fbd7",
   "metadata": {},
   "outputs": [],
   "source": [
    "import re\n",
    "from sklearn.feature_extraction.text import CountVectorizer"
   ]
  },
  {
   "cell_type": "markdown",
   "id": "205e7385",
   "metadata": {},
   "source": [
    "Rapihkan format penulisan di kolom tag"
   ]
  },
  {
   "cell_type": "code",
   "execution_count": 18,
   "id": "70fd5a8c",
   "metadata": {},
   "outputs": [
    {
     "data": {
      "text/html": [
       "<div>\n",
       "<style scoped>\n",
       "    .dataframe tbody tr th:only-of-type {\n",
       "        vertical-align: middle;\n",
       "    }\n",
       "\n",
       "    .dataframe tbody tr th {\n",
       "        vertical-align: top;\n",
       "    }\n",
       "\n",
       "    .dataframe thead th {\n",
       "        text-align: right;\n",
       "    }\n",
       "</style>\n",
       "<table border=\"1\" class=\"dataframe\">\n",
       "  <thead>\n",
       "    <tr style=\"text-align: right;\">\n",
       "      <th></th>\n",
       "      <th>userId</th>\n",
       "      <th>movieId</th>\n",
       "      <th>tag</th>\n",
       "      <th>timestamp</th>\n",
       "    </tr>\n",
       "  </thead>\n",
       "  <tbody>\n",
       "    <tr>\n",
       "      <th>0</th>\n",
       "      <td>2</td>\n",
       "      <td>60756</td>\n",
       "      <td>funny</td>\n",
       "      <td>1445714994</td>\n",
       "    </tr>\n",
       "    <tr>\n",
       "      <th>1</th>\n",
       "      <td>2</td>\n",
       "      <td>60756</td>\n",
       "      <td>highly quotable</td>\n",
       "      <td>1445714996</td>\n",
       "    </tr>\n",
       "    <tr>\n",
       "      <th>2</th>\n",
       "      <td>2</td>\n",
       "      <td>60756</td>\n",
       "      <td>will ferrell</td>\n",
       "      <td>1445714992</td>\n",
       "    </tr>\n",
       "    <tr>\n",
       "      <th>3</th>\n",
       "      <td>2</td>\n",
       "      <td>89774</td>\n",
       "      <td>boxing story</td>\n",
       "      <td>1445715207</td>\n",
       "    </tr>\n",
       "    <tr>\n",
       "      <th>4</th>\n",
       "      <td>2</td>\n",
       "      <td>89774</td>\n",
       "      <td>mma</td>\n",
       "      <td>1445715200</td>\n",
       "    </tr>\n",
       "  </tbody>\n",
       "</table>\n",
       "</div>"
      ],
      "text/plain": [
       "   userId  movieId              tag   timestamp\n",
       "0       2    60756            funny  1445714994\n",
       "1       2    60756  highly quotable  1445714996\n",
       "2       2    60756     will ferrell  1445714992\n",
       "3       2    89774     boxing story  1445715207\n",
       "4       2    89774              mma  1445715200"
      ]
     },
     "execution_count": 18,
     "metadata": {},
     "output_type": "execute_result"
    }
   ],
   "source": [
    "# 1. Convert to lowercase\n",
    "tags['tag'] = tags['tag'].str.lower()\n",
    "\n",
    "# 2. Remove punctuation and special characters (keep only letters, numbers, and spaces)\n",
    "tags['tag'] = tags['tag'].apply(lambda x: re.sub(r'[^a-zA-Z0-9\\s]', '', x))\n",
    "\n",
    "# 3. Remove extra spaces (strip leading/trailing, replace multiple spaces with single)\n",
    "tags['tag'] = tags['tag'].apply(lambda x: re.sub(r'\\s+', ' ', x).strip())\n",
    "\n",
    "tags.head()"
   ]
  },
  {
   "cell_type": "markdown",
   "id": "6cd19731",
   "metadata": {},
   "source": [
    "Satukan tag dengan movie id yang sama"
   ]
  },
  {
   "cell_type": "code",
   "execution_count": 19,
   "id": "7ad42ee6",
   "metadata": {},
   "outputs": [
    {
     "data": {
      "text/html": [
       "<div>\n",
       "<style scoped>\n",
       "    .dataframe tbody tr th:only-of-type {\n",
       "        vertical-align: middle;\n",
       "    }\n",
       "\n",
       "    .dataframe tbody tr th {\n",
       "        vertical-align: top;\n",
       "    }\n",
       "\n",
       "    .dataframe thead th {\n",
       "        text-align: right;\n",
       "    }\n",
       "</style>\n",
       "<table border=\"1\" class=\"dataframe\">\n",
       "  <thead>\n",
       "    <tr style=\"text-align: right;\">\n",
       "      <th></th>\n",
       "      <th>movieId</th>\n",
       "      <th>combined_tags</th>\n",
       "    </tr>\n",
       "  </thead>\n",
       "  <tbody>\n",
       "    <tr>\n",
       "      <th>0</th>\n",
       "      <td>1</td>\n",
       "      <td>pixar pixar fun</td>\n",
       "    </tr>\n",
       "    <tr>\n",
       "      <th>1</th>\n",
       "      <td>2</td>\n",
       "      <td>fantasy magic board game robin williams game</td>\n",
       "    </tr>\n",
       "    <tr>\n",
       "      <th>2</th>\n",
       "      <td>3</td>\n",
       "      <td>moldy old</td>\n",
       "    </tr>\n",
       "    <tr>\n",
       "      <th>3</th>\n",
       "      <td>5</td>\n",
       "      <td>pregnancy remake</td>\n",
       "    </tr>\n",
       "    <tr>\n",
       "      <th>4</th>\n",
       "      <td>7</td>\n",
       "      <td>remake</td>\n",
       "    </tr>\n",
       "  </tbody>\n",
       "</table>\n",
       "</div>"
      ],
      "text/plain": [
       "   movieId                                 combined_tags\n",
       "0        1                               pixar pixar fun\n",
       "1        2  fantasy magic board game robin williams game\n",
       "2        3                                     moldy old\n",
       "3        5                              pregnancy remake\n",
       "4        7                                        remake"
      ]
     },
     "execution_count": 19,
     "metadata": {},
     "output_type": "execute_result"
    }
   ],
   "source": [
    "movie_tags = tags.groupby('movieId')['tag'].apply(lambda x: \" \".join(x)).reset_index()\n",
    "movie_tags.rename(columns={'tag': 'combined_tags'}, inplace=True)\n",
    "\n",
    "movie_tags.head()"
   ]
  },
  {
   "cell_type": "code",
   "execution_count": 20,
   "id": "3851bad3",
   "metadata": {},
   "outputs": [
    {
     "name": "stdout",
     "output_type": "stream",
     "text": [
      "Shape of the vectorized tag features: (1572, 1756)\n"
     ]
    }
   ],
   "source": [
    "vectorizer = CountVectorizer()\n",
    "tag_features_sparse = vectorizer.fit_transform(movie_tags['combined_tags'])\n",
    "feature_names = vectorizer.get_feature_names_out()\n",
    "tag_features_df = pd.DataFrame(tag_features_sparse.toarray(), columns=feature_names)\n",
    "\n",
    "print(\"Shape of the vectorized tag features:\", tag_features_df.shape)"
   ]
  },
  {
   "cell_type": "code",
   "execution_count": 21,
   "id": "59a80229",
   "metadata": {},
   "outputs": [
    {
     "name": "stdout",
     "output_type": "stream",
     "text": [
      "\n",
      "Top 10 unique tag features (vocabulary):\n",
      "['06' '1900s' '1920s' '1950s' '1960s' '1970s' '1980s' '1990s' '2001like'\n",
      " '250']\n"
     ]
    }
   ],
   "source": [
    "print(\"\\nTop 10 unique tag features (vocabulary):\")\n",
    "# Get feature names from the vectorizer and print the first 10 if available\n",
    "feature_names = vectorizer.get_feature_names_out()\n",
    "print(feature_names[:10])"
   ]
  },
  {
   "cell_type": "code",
   "execution_count": 22,
   "id": "a37e6811",
   "metadata": {},
   "outputs": [
    {
     "name": "stdout",
     "output_type": "stream",
     "text": [
      "\n",
      "First 5 rows of 'tags' DataFrame after text cleaning:\n",
      "| userId   | movieId   | tag             | timestamp   |\n",
      "|:---------|:----------|:----------------|:------------|\n",
      "| 2        | 60756     | funny           | 1445714994  |\n",
      "| 2        | 60756     | highly quotable | 1445714996  |\n",
      "| 2        | 60756     | will ferrell    | 1445714992  |\n",
      "| 2        | 89774     | boxing story    | 1445715207  |\n",
      "| 2        | 89774     | mma             | 1445715200  |\n"
     ]
    }
   ],
   "source": [
    "print(\"\\nFirst 5 rows of 'tags' DataFrame after text cleaning:\")\n",
    "print(tags.head().to_markdown(index=False, numalign=\"left\", stralign=\"left\"))"
   ]
  },
  {
   "cell_type": "code",
   "execution_count": 23,
   "id": "b3dd9f8b",
   "metadata": {},
   "outputs": [
    {
     "name": "stdout",
     "output_type": "stream",
     "text": [
      "\n",
      "First 5 rows of 'movie_tags' DataFrame with combined tags:\n",
      "| movieId   | combined_tags                                |\n",
      "|:----------|:---------------------------------------------|\n",
      "| 1         | pixar pixar fun                              |\n",
      "| 2         | fantasy magic board game robin williams game |\n",
      "| 3         | moldy old                                    |\n",
      "| 5         | pregnancy remake                             |\n",
      "| 7         | remake                                       |\n"
     ]
    }
   ],
   "source": [
    "print(\"\\nFirst 5 rows of 'movie_tags' DataFrame with combined tags:\")\n",
    "print(movie_tags.head().to_markdown(index=False, numalign=\"left\", stralign=\"left\"))"
   ]
  },
  {
   "cell_type": "markdown",
   "id": "6a7bee41",
   "metadata": {},
   "source": [
    "Simpan hasil"
   ]
  },
  {
   "cell_type": "code",
   "execution_count": 24,
   "id": "25ec5fd1",
   "metadata": {},
   "outputs": [],
   "source": [
    "tag_features_df['movieId'] = movie_tags['movieId']\n",
    "tag_features_df = tag_features_df[['movieId'] + [col for col in tag_features_df.columns if col != 'movieId']]\n",
    "\n",
    "tag_features_df.to_csv('tags_processed.csv', index=False)"
   ]
  },
  {
   "cell_type": "markdown",
   "id": "228b199a",
   "metadata": {},
   "source": [
    "## Merge Dataset"
   ]
  },
  {
   "cell_type": "code",
   "execution_count": 25,
   "id": "b1be78b9",
   "metadata": {},
   "outputs": [],
   "source": [
    "# import pandas as pd\n",
    "\n",
    "# # 1. Memuat semua dataset yang sudah diproses\n",
    "# movies_df = pd.read_csv('movies_processed.csv')\n",
    "# ratings_df = pd.read_csv('ratings.csv')\n",
    "# tags_df = pd.read_csv('tags_processed.csv') # Ini berisi movieId dan combined_tags\n",
    "\n",
    "# print(\"Movies_df head:\\n\", movies_df.head().to_markdown(index=False, numalign=\"left\", stralign=\"left\"))\n",
    "# print(\"\\nRatings_df head:\\n\", ratings_df.head().to_markdown(index=False, numalign=\"left\", stralign=\"left\"))\n",
    "# print(\"\\nTags_df head:\\n\", tags_df.head().to_markdown(index=False, numalign=\"left\", stralign=\"left\"))\n",
    "\n",
    "# # 3. Menggabungkan semua DataFrame\n",
    "# # Gabungkan ratings_df dengan movies_df berdasarkan movieId\n",
    "# df_merged = pd.merge(ratings_df, movies_df, on='movieId', how='left')\n",
    "\n",
    "# # Gabungkan hasil dengan tags_df berdasarkan movieId\n",
    "# df_merged = pd.merge(df_merged, tags_df, on='movieId', how='left')\n",
    "\n",
    "# print(\"\\nShape dari DataFrame gabungan setelah merge awal:\", df_merged.shape)\n",
    "# print(\"Jumlah nilai null di setiap kolom setelah merge awal:\")\n",
    "# print(df_merged.isnull().sum().to_markdown(numalign=\"left\", stralign=\"left\"))\n",
    "\n",
    "# # 4. Mengisi semua nilai NaN dengan 0\n",
    "# df_merged.fillna(0, inplace=True)\n",
    "\n",
    "# print(\"\\nJumlah nilai null di setiap kolom setelah mengisi NaN:\")\n",
    "# print(df_merged.isnull().sum().to_markdown(numalign=\"left\", stralign=\"left\"))\n",
    "\n",
    "# # 5. Menampilkan hasil akhir\n",
    "# print(\"\\nDataFrame gabungan akhir (head):\")\n",
    "# print(df_merged.head().to_markdown(index=False, numalign=\"left\", stralign=\"left\"))\n",
    "\n",
    "# print(\"\\nInformasi DataFrame gabungan akhir:\")\n",
    "# print(df_merged.info())"
   ]
  },
  {
   "cell_type": "code",
   "execution_count": 26,
   "id": "2b68d23b",
   "metadata": {},
   "outputs": [],
   "source": [
    "# df_merged.to_csv('df_merged.csv', index=False)"
   ]
  },
  {
   "cell_type": "markdown",
   "id": "d0d9ca78",
   "metadata": {},
   "source": [
    "##  df_merged "
   ]
  },
  {
   "cell_type": "code",
   "execution_count": 27,
   "id": "e8c02013",
   "metadata": {},
   "outputs": [],
   "source": [
    "df_merged = pd.read_csv('df_merged.csv')"
   ]
  },
  {
   "cell_type": "code",
   "execution_count": 28,
   "id": "9846d989",
   "metadata": {},
   "outputs": [
    {
     "data": {
      "text/plain": [
       "userId       0\n",
       "movieId      0\n",
       "rating       0\n",
       "timestamp    0\n",
       "title        0\n",
       "            ..\n",
       "zither       0\n",
       "zoe          0\n",
       "zombie       0\n",
       "zombies      0\n",
       "zooey        0\n",
       "Length: 1782, dtype: int64"
      ]
     },
     "execution_count": 28,
     "metadata": {},
     "output_type": "execute_result"
    }
   ],
   "source": [
    "df_merged.isnull().sum()"
   ]
  },
  {
   "cell_type": "markdown",
   "id": "1cd1e609",
   "metadata": {},
   "source": [
    "## **DATA MODELLING & EVALUATION**"
   ]
  },
  {
   "cell_type": "markdown",
   "id": "c54b639c",
   "metadata": {},
   "source": [
    "---"
   ]
  },
  {
   "cell_type": "markdown",
   "id": "e7e3bb86",
   "metadata": {},
   "source": [
    "## Collaborative Filtering"
   ]
  },
  {
   "cell_type": "code",
   "execution_count": 29,
   "id": "b4925ce6",
   "metadata": {},
   "outputs": [],
   "source": [
    "from sklearn.decomposition import NMF, TruncatedSVD\n",
    "from sklearn.model_selection import train_test_split\n",
    "from sklearn.metrics import mean_squared_error\n",
    "import numpy as np"
   ]
  },
  {
   "cell_type": "code",
   "execution_count": 30,
   "id": "d7bf6796",
   "metadata": {},
   "outputs": [
    {
     "name": "stdout",
     "output_type": "stream",
     "text": [
      "\n",
      "Shape matriks pengguna-item: (610, 9724)\n",
      "Contoh matriks pengguna-item (5x5 pertama):\n",
      " |   userId |   1 |   2 |   3 |   4 |   5 |\n",
      "|---------:|----:|----:|----:|----:|----:|\n",
      "|        1 |   4 |   0 |   4 |   0 |   0 |\n",
      "|        2 |   0 |   0 |   0 |   0 |   0 |\n",
      "|        3 |   0 |   0 |   0 |   0 |   0 |\n",
      "|        4 |   0 |   0 |   0 |   0 |   0 |\n",
      "|        5 |   4 |   0 |   0 |   0 |   0 |\n"
     ]
    }
   ],
   "source": [
    "user_item_matrix = df_merged.pivot_table(index='userId', columns='movieId', values='rating')\n",
    "user_item_matrix_filled = user_item_matrix.fillna(0)\n",
    "print(\"\\nShape matriks pengguna-item:\", user_item_matrix_filled.shape)\n",
    "print(\"Contoh matriks pengguna-item (5x5 pertama):\\n\", user_item_matrix_filled.iloc[:5, :5].to_markdown())"
   ]
  },
  {
   "cell_type": "markdown",
   "id": "8b9bbb5f",
   "metadata": {},
   "source": [
    "test split"
   ]
  },
  {
   "cell_type": "code",
   "execution_count": 31,
   "id": "d3706f3c",
   "metadata": {},
   "outputs": [],
   "source": [
    "train_matrix = user_item_matrix_filled.copy()\n",
    "test_matrix = user_item_matrix_filled.copy()\n",
    "\n",
    "np.random.seed(42)\n",
    "\n",
    "for user in user_item_matrix_filled.index:\n",
    "    rated_movies = user_item_matrix_filled.loc[user][user_item_matrix_filled.loc[user] > 0].index\n",
    "    if len(rated_movies) > 0:\n",
    "        num_test_movies = int(0.2 * len(rated_movies))\n",
    "        if num_test_movies == 0 and len(rated_movies) > 0:\n",
    "            num_test_movies = 1\n",
    "        \n",
    "        if num_test_movies > len(rated_movies):\n",
    "            num_test_movies = len(rated_movies)\n",
    "\n",
    "        test_movies = np.random.choice(rated_movies, size=num_test_movies, replace=False)\n",
    "        train_matrix.loc[user, test_movies] = 0"
   ]
  },
  {
   "cell_type": "markdown",
   "id": "56194f2e",
   "metadata": {},
   "source": [
    "terapkan NMF"
   ]
  },
  {
   "cell_type": "code",
   "execution_count": 32,
   "id": "79cdddad",
   "metadata": {},
   "outputs": [],
   "source": [
    "# n_components = 150 # Anda bisa coba nilai lain untuk tuning\n",
    "\n",
    "# model_nmf = NMF(n_components=n_components, init='nndsvda', random_state=42, max_iter=1000)\n",
    "\n",
    "# print(f\"\\nMelatih model NMF dengan {train_matrix.shape[0]} pengguna dan {train_matrix.shape[1]} film...\")\n",
    "# # Melatih model NMF pada matriks training\n",
    "# W = model_nmf.fit_transform(train_matrix)\n",
    "# H = model_nmf.components_\n",
    "\n",
    "# print(f\"Shape dari matriks fitur pengguna (W): {W.shape}\")\n",
    "# print(f\"Shape dari matriks fitur item (H): {H.shape}\")\n",
    "\n",
    "# predicted_ratings_matrix = np.dot(W, H)\n",
    "# predicted_ratings_df = pd.DataFrame(predicted_ratings_matrix, index=user_item_matrix_filled.index, columns=user_item_matrix_filled.columns)\n",
    "\n",
    "# test_indices_row, test_indices_col = np.where(test_matrix > 0)\n",
    "# actual_ratings = test_matrix.values[test_indices_row, test_indices_col]\n",
    "# predicted_for_actual = predicted_ratings_df.values[test_indices_row, test_indices_col]\n",
    "\n",
    "# rmse = np.sqrt(mean_squared_error(actual_ratings, predicted_for_actual))\n",
    "# print(f\"RMSE pada data uji (rating yang disembunyikan, 80% data): {rmse:.4f}\")"
   ]
  },
  {
   "cell_type": "markdown",
   "id": "e0f12cf4",
   "metadata": {},
   "source": [
    "terapkan SVD"
   ]
  },
  {
   "cell_type": "code",
   "execution_count": 33,
   "id": "cef04ae2",
   "metadata": {},
   "outputs": [],
   "source": [
    "# param_grid = {\n",
    "#     'n_components': [50, 100, 200, 300, 400, 500, 550, 600, 610] \n",
    "# }\n",
    "\n",
    "# best_rmse = float('inf')\n",
    "# best_n_components = -1\n",
    "# results = []\n",
    "\n",
    "# for n_components in param_grid['n_components']:\n",
    "#     print(f\"\\nMencoba n_components = {n_components}...\")\n",
    "\n",
    "#     # Pastikan train_matrix dan test_matrix diinisialisasi ulang per iterasi\n",
    "#     train_matrix = train_matrix.copy()\n",
    "#     test_matrix = test_matrix.copy()\n",
    "\n",
    "#     model_svd = TruncatedSVD(n_components=n_components, random_state=42)\n",
    "\n",
    "#     # Melatih model TruncatedSVD\n",
    "#     U = model_svd.fit_transform(train_matrix)\n",
    "#     Vt = model_svd.components_\n",
    "\n",
    "#     # Rekonstruksi Matriks Rating (Prediksi)\n",
    "#     predicted_ratings_matrix = np.dot(U, Vt)\n",
    "#     predicted_ratings_df = pd.DataFrame(predicted_ratings_matrix, index=user_item_matrix_filled.index, columns=user_item_matrix_filled.columns)\n",
    "\n",
    "#     # Evaluasi Model\n",
    "#     test_indices_row, test_indices_col = np.where(test_matrix > 0)\n",
    "#     actual_ratings = test_matrix.values[test_indices_row, test_indices_col]\n",
    "#     predicted_for_actual = predicted_ratings_df.values[test_indices_row, test_indices_col]\n",
    "\n",
    "#     rmse = np.sqrt(mean_squared_error(actual_ratings, predicted_for_actual))\n",
    "#     print(f\"RMSE untuk n_components = {n_components}: {rmse:.4f}\")\n",
    "\n",
    "#     results.append({'n_components': n_components, 'rmse': rmse})\n",
    "\n",
    "#     if rmse < best_rmse:\n",
    "#         best_rmse = rmse\n",
    "#         best_n_components = n_components\n",
    "\n",
    "# print(\"\\n--- Hasil Grid Search ---\")\n",
    "# results_df = pd.DataFrame(results).sort_values(by='rmse', ascending=True)\n",
    "# print(results_df.to_markdown(index=False, numalign=\"left\", stralign=\"left\"))\n",
    "\n",
    "# print(f\"\\nNilai n_components terbaik adalah: {best_n_components} dengan RMSE: {best_rmse:.4f}\")"
   ]
  },
  {
   "cell_type": "code",
   "execution_count": 34,
   "id": "c6a72f0b",
   "metadata": {},
   "outputs": [
    {
     "name": "stdout",
     "output_type": "stream",
     "text": [
      "\n",
      "Melatih model TruncatedSVD dengan 610 pengguna, 9724 film, n_components=600...\n",
      "Shape dari matriks fitur pengguna (U): (610, 600)\n",
      "Shape dari matriks fitur item (Vt): (600, 9724)\n"
     ]
    }
   ],
   "source": [
    "n_components = 600\n",
    "model_svd = TruncatedSVD(n_components=n_components, random_state=42)\n",
    "print(f\"\\nMelatih model TruncatedSVD dengan {train_matrix.shape[0]} pengguna, {train_matrix.shape[1]} film, n_components={n_components}...\")\n",
    "U = model_svd.fit_transform(train_matrix) \n",
    "Vt = model_svd.components_\n",
    "\n",
    "print(f\"Shape dari matriks fitur pengguna (U): {U.shape}\")\n",
    "print(f\"Shape dari matriks fitur item (Vt): {Vt.shape}\")\n",
    "\n",
    "predicted_ratings_matrix = np.dot(U, Vt)\n",
    "predicted_ratings_df = pd.DataFrame(predicted_ratings_matrix, index=user_item_matrix_filled.index, columns=user_item_matrix_filled.columns)"
   ]
  },
  {
   "cell_type": "markdown",
   "id": "5de0849e",
   "metadata": {},
   "source": [
    "evaluasi"
   ]
  },
  {
   "cell_type": "code",
   "execution_count": 35,
   "id": "f7ecfed6",
   "metadata": {},
   "outputs": [
    {
     "name": "stdout",
     "output_type": "stream",
     "text": [
      "RMSE pada data uji (rating yang disembunyikan, 20% data): 1.6225\n"
     ]
    }
   ],
   "source": [
    "test_indices_row, test_indices_col = np.where(test_matrix > 0)\n",
    "\n",
    "actual_ratings = test_matrix.values[test_indices_row, test_indices_col]\n",
    "predicted_for_actual = predicted_ratings_df.values[test_indices_row, test_indices_col]\n",
    "\n",
    "rmse = np.sqrt(mean_squared_error(actual_ratings, predicted_for_actual))\n",
    "print(f\"RMSE pada data uji (rating yang disembunyikan, 20% data): {rmse:.4f}\")# "
   ]
  },
  {
   "cell_type": "markdown",
   "id": "2ec78065",
   "metadata": {},
   "source": [
    "## Klasifikasi"
   ]
  },
  {
   "cell_type": "markdown",
   "id": "f409c18a",
   "metadata": {},
   "source": [
    "Random Forest"
   ]
  },
  {
   "cell_type": "code",
   "execution_count": 36,
   "id": "2db67012",
   "metadata": {},
   "outputs": [],
   "source": [
    "from sklearn.model_selection import train_test_split, GridSearchCV\n",
    "from sklearn.ensemble import RandomForestClassifier # Import classifier\n",
    "from sklearn.metrics import accuracy_score, precision_score, recall_score, f1_score, roc_auc_score # Metrik klasifikasi\n",
    "import numpy as np"
   ]
  },
  {
   "cell_type": "code",
   "execution_count": 37,
   "id": "03ac8687",
   "metadata": {},
   "outputs": [],
   "source": [
    "# rating_threshold = 3.5\n",
    "\n",
    "# df_merged['liked'] = (df_merged['rating'] >= rating_threshold).astype(int)\n",
    "\n",
    "# print(f\"\\nDistribusi kelas 'liked' (Rating >= {rating_threshold}):\")\n",
    "# print(df_merged['liked'].value_counts().to_markdown())\n",
    "\n",
    "# exclude_cols_from_features = ['userId', 'movieId', 'rating', 'timestamp', 'title', 'liked']\n",
    "\n",
    "# # Ambil semua kolom yang tidak ada dalam daftar pengecualian\n",
    "# feature_cols = [col for col in df_merged.columns if col not in exclude_cols_from_features]\n",
    "\n",
    "# X = df_merged[feature_cols]\n",
    "# y = df_merged['liked']\n",
    "\n",
    "# print(f\"\\nShape dari Fitur (X): {X.shape}\")\n",
    "# print(f\"Shape dari Target (y): {y.shape}\")\n"
   ]
  },
  {
   "cell_type": "code",
   "execution_count": 38,
   "id": "bf60f5a1",
   "metadata": {},
   "outputs": [],
   "source": [
    "# X_train, X_test, y_train, y_test = train_test_split(X, y, test_size=0.2, random_state=42, stratify=y)\n",
    "# # stratify=y penting untuk klasifikasi biner agar distribusi kelas di train/test mirip\n",
    "\n",
    "# print(f\"\\nShape X_train: {X_train.shape}, y_train: {y_train.shape}\")\n",
    "# print(f\"Shape X_test: {X_test.shape}, y_test: {y_test.shape}\")\n",
    "\n",
    "# print(\"\\nMelatih RandomForestClassifier...\")\n",
    "# classifier = RandomForestClassifier(n_estimators=100, random_state=42, n_jobs=-1) # n_jobs=-1 untuk menggunakan semua core CPU\n",
    "# classifier.fit(X_train, y_train)\n",
    "# print(\"Classifier berhasil dilatih.\")"
   ]
  },
  {
   "cell_type": "code",
   "execution_count": 39,
   "id": "31f5a66f",
   "metadata": {},
   "outputs": [
    {
     "name": "stdout",
     "output_type": "stream",
     "text": [
      "DataFrame gabungan dengan fitur laten siap.\n",
      "Shape DataFrame setelah penambahan fitur laten: (100836, 2982)\n"
     ]
    }
   ],
   "source": [
    "user_item_matrix = df_merged.pivot_table(index='userId', columns='movieId', values='rating').fillna(0)\n",
    "n_components_svd = 600\n",
    "svd_model = TruncatedSVD(n_components=n_components_svd, random_state=42)\n",
    "\n",
    "# U adalah matriks fitur pengguna (userId, n_components)\n",
    "U = svd_model.fit_transform(user_item_matrix)\n",
    "# Vt adalah matriks fitur item (n_components, movieId)\n",
    "Vt = svd_model.components_\n",
    "\n",
    "# Konversi U dan Vt menjadi DataFrame agar mudah digabungkan\n",
    "user_latent_features_df = pd.DataFrame(U, index=user_item_matrix.index, \n",
    "                                     columns=[f'user_latent_{i+1}' for i in range(n_components_svd)])\n",
    "# --- BARIS KODE YANG DITAMBAHKAN UNTUK FITUR LATEN ITEM ---\n",
    "item_latent_features_df = pd.DataFrame(Vt.T, index=user_item_matrix.columns, # Transpose Vt agar movieId menjadi index\n",
    "                                     columns=[f'item_latent_{i+1}' for i in range(n_components_svd)])\n",
    "\n",
    "\n",
    "# Gabungkan fitur laten pengguna dan item ke df_merged\n",
    "df_merged = pd.merge(df_merged, user_latent_features_df, on='userId', how='left')\n",
    "# --- BARIS KODE YANG DITAMBAHKAN UNTUK MERGE FITUR LATEN ITEM ---\n",
    "df_merged = pd.merge(df_merged, item_latent_features_df, on='movieId', how='left')\n",
    "\n",
    "# Pastikan tidak ada NaN yang muncul dari merge fitur laten (jika ada movieId/userId baru yang tidak ada di matriks asli)\n",
    "df_merged.fillna(0, inplace=True)\n",
    "print(\"DataFrame gabungan dengan fitur laten siap.\")\n",
    "print(f\"Shape DataFrame setelah penambahan fitur laten: {df_merged.shape}\")"
   ]
  },
  {
   "cell_type": "code",
   "execution_count": 40,
   "id": "b57d424c",
   "metadata": {},
   "outputs": [
    {
     "name": "stdout",
     "output_type": "stream",
     "text": [
      "\n",
      "Shape dari Fitur (X) dengan fitur laten: (100836, 2977)\n",
      "Shape dari Target (y): (100836,)\n",
      "\n",
      "Shape X_train: (80668, 2977), y_train: (80668,)\n",
      "Shape X_test: (20168, 2977), y_test: (20168,)\n",
      "Fitting 2 folds for each of 4 candidates, totalling 8 fits\n",
      "[CV] END .max_depth=10, min_samples_split=2, n_estimators=50; total time=  29.9s\n",
      "[CV] END .max_depth=10, min_samples_split=2, n_estimators=50; total time=  26.1s\n",
      "[CV] END max_depth=10, min_samples_split=2, n_estimators=100; total time=  50.4s\n",
      "[CV] END max_depth=10, min_samples_split=2, n_estimators=100; total time=  55.2s\n",
      "[CV] END .max_depth=20, min_samples_split=2, n_estimators=50; total time=  45.7s\n",
      "[CV] END .max_depth=20, min_samples_split=2, n_estimators=50; total time=  44.8s\n",
      "[CV] END max_depth=20, min_samples_split=2, n_estimators=100; total time= 1.5min\n",
      "[CV] END max_depth=20, min_samples_split=2, n_estimators=100; total time= 1.5min\n",
      "Parameter terbaik: {'max_depth': 20, 'min_samples_split': 2, 'n_estimators': 100}\n",
      "Skor (ROC AUC) terbaik pada validasi silang: 0.8145\n"
     ]
    }
   ],
   "source": [
    "rating_threshold = 3.5\n",
    "df_merged['liked'] = (df_merged['rating'] >= rating_threshold).astype(int)\n",
    "\n",
    "exclude_cols_from_features = ['userId', 'movieId', 'rating', 'timestamp', 'title', 'liked']\n",
    "\n",
    "# Ambil semua kolom yang tidak ada dalam daftar pengecualian\n",
    "X = df_merged.drop(columns=exclude_cols_from_features) # Cara yang lebih langsung\n",
    "y = df_merged['liked']\n",
    "\n",
    "feature_columns_order = X.columns.tolist()\n",
    "\n",
    "print(f\"\\nShape dari Fitur (X) dengan fitur laten: {X.shape}\")\n",
    "print(f\"Shape dari Target (y): {y.shape}\")\n",
    "\n",
    "X_train, X_test, y_train, y_test = train_test_split(X, y, test_size=0.2, random_state=42, stratify=y)\n",
    "\n",
    "print(f\"\\nShape X_train: {X_train.shape}, y_train: {y_train.shape}\")\n",
    "print(f\"Shape X_test: {X_test.shape}, y_test: {y_test.shape}\")\n",
    "\n",
    "# Tentukan grid parameter yang ingin Anda uji\n",
    "# Untuk pengujian cepat, mulai dengan grid yang tidak terlalu besar\n",
    "param_grid = {\n",
    "    'n_estimators': [50, 100], # Jumlah pohon dalam forest\n",
    "    'max_depth': [10, 20], # Kedalaman maksimum pohon\n",
    "    'min_samples_split': [2], # Jumlah sampel minimum untuk membagi node\n",
    "}\n",
    "\n",
    "grid_search = GridSearchCV(\n",
    "    estimator=RandomForestClassifier(random_state=42),\n",
    "    param_grid=param_grid,\n",
    "    scoring='roc_auc', # Atau 'f1' jika F1-score lebih penting\n",
    "    cv=2, # Coba dengan cv=3 (3-fold cross-validation) untuk kecepatan\n",
    "    n_jobs=1,\n",
    "    verbose=2\n",
    ")\n",
    "\n",
    "# Latih GridSearchCV pada data pelatihan\n",
    "grid_search.fit(X_train, y_train)\n",
    "\n",
    "print(f\"Parameter terbaik: {grid_search.best_params_}\")\n",
    "print(f\"Skor (ROC AUC) terbaik pada validasi silang: {grid_search.best_score_:.4f}\")\n",
    "\n",
    "# Dapatkan model terbaik\n",
    "best_classifier = grid_search.best_estimator_\n"
   ]
  },
  {
   "cell_type": "code",
   "execution_count": 41,
   "id": "3b929166",
   "metadata": {},
   "outputs": [
    {
     "name": "stdout",
     "output_type": "stream",
     "text": [
      "\n",
      "Mengevaluasi Classifier...\n",
      "Accuracy: 0.7573\n",
      "Precision: 0.7578\n",
      "Recall: 0.8870\n",
      "F1-Score: 0.8173\n",
      "ROC AUC Score: 0.8258\n"
     ]
    }
   ],
   "source": [
    "print(\"\\nMengevaluasi Classifier...\")\n",
    "\n",
    "y_pred = best_classifier.predict(X_test)\n",
    "y_proba = best_classifier.predict_proba(X_test)[:, 1] # Probabilitas kelas positif (1)\n",
    "\n",
    "print(f\"Accuracy: {accuracy_score(y_test, y_pred):.4f}\")\n",
    "print(f\"Precision: {precision_score(y_test, y_pred):.4f}\")\n",
    "print(f\"Recall: {recall_score(y_test, y_pred):.4f}\")\n",
    "print(f\"F1-Score: {f1_score(y_test, y_pred):.4f}\")\n",
    "print(f\"ROC AUC Score: {roc_auc_score(y_test, y_proba):.4f}\")"
   ]
  },
  {
   "cell_type": "markdown",
   "id": "0c1464e1",
   "metadata": {},
   "source": [
    "## Classifier"
   ]
  },
  {
   "cell_type": "code",
   "execution_count": 44,
   "id": "fd03a788",
   "metadata": {},
   "outputs": [],
   "source": [
    "movies = pd.read_csv('movies_processed.csv')\n",
    "tags = pd.read_csv('tags_processed.csv')"
   ]
  },
  {
   "cell_type": "code",
   "execution_count": 42,
   "id": "eb4a69c0",
   "metadata": {},
   "outputs": [],
   "source": [
    "all_movie_features_df = pd.merge(movies, tags, on='movieId', how='left')\n",
    "all_movie_features_df = pd.merge(all_movie_features_df, item_latent_features_df, on='movieId', how='left')\n",
    "all_movie_features_df.fillna(0, inplace=True)\n",
    "\n",
    "def get_movie_recommendations_for_user(user_id, classifier_model, n=10):\n",
    "    \"\"\"\n",
    "    Menghasilkan rekomendasi film untuk pengguna tertentu, termasuk penanganan cold start.\n",
    "\n",
    "    Args:\n",
    "        user_id (int): ID pengguna yang akan direkomendasikan.\n",
    "        classifier_model: Model classifier (best_classifier) yang sudah dilatih.\n",
    "        n (int): Jumlah rekomendasi film teratas yang diinginkan.\n",
    "\n",
    "    Returns:\n",
    "        pd.DataFrame: DataFrame berisi film yang direkomendasikan (movieId, title, year, predicted_proba).\n",
    "    \"\"\"\n",
    "    print(f\"\\nMencari rekomendasi untuk User ID: {user_id}...\")\n",
    "\n",
    "    # --- PENANGANAN COLD START PENGGUNA BARU ---\n",
    "    if user_id not in user_latent_features_df.index:\n",
    "        print(f\"User ID {user_id} adalah pengguna baru (cold start). Merekomendasikan film populer secara umum.\")\n",
    "        top_overall_movies_ids = ratings.groupby('movieId')['rating'].mean().nlargest(n).index\n",
    "        recommendations = movies[movies['movieId'].isin(top_overall_movies_ids)].copy()\n",
    "        recommendations['predicted_proba'] = 'N/A'\n",
    "        return recommendations[['movieId', 'title', 'year', 'predicted_proba']]\n",
    "\n",
    "    # --- PENANGANAN PENGGUNA LAMA (yang sudah ada datanya) ---\n",
    "    watched_movie_ids = ratings[ratings['userId'] == user_id]['movieId'].tolist()\n",
    "    unwatched_movies_df = all_movie_features_df[~all_movie_features_df['movieId'].isin(watched_movie_ids)].copy()\n",
    "\n",
    "    if unwatched_movies_df.empty:\n",
    "        print(f\"User ID {user_id} telah menonton semua film atau tidak ada film yang tersisa untuk direkomendasikan.\")\n",
    "        return pd.DataFrame(columns=['movieId', 'title', 'year', 'predicted_proba'])\n",
    "\n",
    "    user_lfs = user_latent_features_df.loc[user_id]\n",
    "    X_predict = unwatched_movies_df[feature_columns_order].copy()\n",
    "\n",
    "    for col_name, value in user_lfs.items():\n",
    "        X_predict[col_name] = value\n",
    "    X_predict = X_predict[feature_columns_order]\n",
    "\n",
    "    predicted_proba = classifier_model.predict_proba(X_predict)[:, 1]\n",
    "    unwatched_movies_df['predicted_proba'] = predicted_proba\n",
    "    top_n_recommendations = unwatched_movies_df.sort_values(by='predicted_proba', ascending=False).head(n)\n",
    "\n",
    "    final_recommendations = top_n_recommendations[['movieId', 'title', 'year', 'predicted_proba']]\n",
    "    return final_recommendations\n"
   ]
  },
  {
   "cell_type": "code",
   "execution_count": 43,
   "id": "1d0f519f",
   "metadata": {},
   "outputs": [
    {
     "name": "stdout",
     "output_type": "stream",
     "text": [
      "\n",
      "--- Visualisasi Metrik Performa Model ---\n"
     ]
    },
    {
     "name": "stderr",
     "output_type": "stream",
     "text": [
      "C:\\Users\\ASUS\\AppData\\Local\\Temp\\ipykernel_26192\\2151486591.py:26: FutureWarning: \n",
      "\n",
      "Passing `palette` without assigning `hue` is deprecated and will be removed in v0.14.0. Assign the `x` variable to `hue` and set `legend=False` for the same effect.\n",
      "\n",
      "  sns.barplot(x=\"Metric\", y=\"Score\", data=metrics_df, palette=\"viridis\")\n"
     ]
    },
    {
     "data": {
      "image/png": "[encoded data removed]",
      "text/plain": [
       "<Figure size 1000x600 with 1 Axes>"
      ]
     },
     "metadata": {},
     "output_type": "display_data"
    }
   ],
   "source": [
    "import matplotlib.pyplot as plt\n",
    "import seaborn as sns\n",
    "import pandas as pd # Tambahkan impor pandas untuk DataFrame\n",
    "from sklearn.metrics import accuracy_score, precision_score, recall_score, f1_score, roc_auc_score\n",
    "\n",
    "# --- Visualisasi Metrik Performa Model ---\n",
    "print(\"\\n--- Visualisasi Metrik Performa Model ---\")\n",
    "\n",
    "# Dapatkan kembali prediksi dari best_classifier pada X_test\n",
    "y_pred = best_classifier.predict(X_test)\n",
    "y_proba = best_classifier.predict_proba(X_test)[:, 1]\n",
    "\n",
    "# Hitung metrik yang akan divisualisasikan\n",
    "metrics = {\n",
    "    \"Accuracy\": accuracy_score(y_test, y_pred),\n",
    "    \"Precision\": precision_score(y_test, y_pred),\n",
    "    \"Recall\": recall_score(y_test, y_pred),\n",
    "    \"F1-Score\": f1_score(y_test, y_pred),\n",
    "    \"ROC AUC Score\": roc_auc_score(y_test, y_proba)\n",
    "}\n",
    "\n",
    "metrics_df = pd.DataFrame(metrics.items(), columns=[\"Metric\", \"Score\"])\n",
    "\n",
    "# Buat bar plot\n",
    "plt.figure(figsize=(10, 6))\n",
    "sns.barplot(x=\"Metric\", y=\"Score\", data=metrics_df, palette=\"viridis\")\n",
    "plt.ylim(0, 1) # Batasi sumbu Y dari 0 hingga 1\n",
    "plt.title(\"Performa Model Klasifikasi Rekomendasi\")\n",
    "plt.ylabel(\"Score\")\n",
    "plt.xlabel(\"Metrik\")\n",
    "for index, row in metrics_df.iterrows():\n",
    "    plt.text(row.name, row.Score + 0.02, round(row.Score, 4), color='black', ha=\"center\") # Tampilkan nilai score\n",
    "plt.grid(axis='y', linestyle='--', alpha=0.7)\n",
    "plt.tight_layout()\n",
    "plt.show()"
   ]
  },
  {
   "cell_type": "markdown",
   "id": "3d510900",
   "metadata": {},
   "source": [
    "# **DEPLOYMENT**"
   ]
  },
  {
   "cell_type": "code",
   "execution_count": 45,
   "id": "510a3ad3",
   "metadata": {},
   "outputs": [
    {
     "data": {
      "text/plain": [
       "['feature_columns_order.pkl']"
      ]
     },
     "execution_count": 45,
     "metadata": {},
     "output_type": "execute_result"
    }
   ],
   "source": [
    "import joblib\n",
    "\n",
    "joblib.dump(best_classifier, 'best_classifier_model.pkl')\n",
    "\n",
    "# Menyimpan DataFrame yang akan sering diakses atau dibutuhkan\n",
    "movies.to_csv('streamlit_movies_df.csv', index=False)\n",
    "ratings.to_csv('streamlit_ratings_df.csv', index=False)\n",
    "user_latent_features_df.to_csv('streamlit_user_latent_features_df.csv', index=True) # userId sebagai index\n",
    "item_latent_features_df.to_csv('streamlit_item_latent_features_df.csv', index=True) # movieId sebagai index\n",
    "tags.to_csv('streamlit_movie_tag_features_df.csv', index=False) # Sudah punya movieId\n",
    "\n",
    "# Menyimpan all_movie_features_df (sudah punya title, year, genre, tags, item latent)\n",
    "all_movie_features_df.to_csv('streamlit_all_movie_features_df.csv', index=False)\n",
    "\n",
    "# Menyimpan urutan kolom fitur\n",
    "joblib.dump(feature_columns_order, 'feature_columns_order.pkl')"
   ]
  }
 ],
 "metadata": {
  "kernelspec": {
   "display_name": "Python 3",
   "language": "python",
   "name": "python3"
  },
  "language_info": {
   "codemirror_mode": {
    "name": "ipython",
    "version": 3
   },
   "file_extension": ".py",
   "mimetype": "text/x-python",
   "name": "python",
   "nbconvert_exporter": "python",
   "pygments_lexer": "ipython3",
   "version": "3.13.3"
  }
 },
 "nbformat": 4,
 "nbformat_minor": 5
}
