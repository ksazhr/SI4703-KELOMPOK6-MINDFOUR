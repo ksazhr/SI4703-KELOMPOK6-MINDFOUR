{
 "cells": [
  {
   "cell_type": "markdown",
   "metadata": {},
   "source": [
    "# Data Exploration"
   ]
  },
  {
   "cell_type": "code",
   "execution_count": 54,
   "id": "4071b857",
   "metadata": {},
   "outputs": [],
   "source": [
    "import pandas as pd\n",
    "\n",
    "df = pd.read_csv('film.csv')"
   ]
  },
  {
   "cell_type": "code",
   "execution_count": 55,
   "id": "c2d0e1b6",
   "metadata": {},
   "outputs": [],
   "source": [
    "df.info()"
   ]
  },
  {
   "cell_type": "code",
   "execution_count": 56,
   "id": "c9d3c756",
   "metadata": {},
   "outputs": [],
   "source": [
    "df.isnull().sum()"
   ]
  },
  {
   "cell_type": "code",
   "execution_count": 57,
   "id": "149b14ad",
   "metadata": {},
   "outputs": [],
   "source": [
    "df.duplicated().sum()"
   ]
  },
  {
   "cell_type": "code",
   "execution_count": 58,
   "id": "2062c764",
   "metadata": {},
   "outputs": [],
   "source": [
    "df['title'].unique(), df['year'].unique()"
   ]
  },
  {
   "cell_type": "code",
   "execution_count": 59,
   "id": "45a12a7f",
   "metadata": {},
   "outputs": [],
   "source": [
    "df['genre'].unique()\n"
   ]
  },
  {
   "cell_type": "code",
   "execution_count": 60,
   "id": "baf2c3eb",
   "metadata": {},
   "outputs": [],
   "source": [
    "df = pd.read_csv('film.csv')"
   ]
  },
  {
   "cell_type": "markdown",
   "id": "0276c1ba",
   "metadata": {},
   "source": [
    "# Data Preparation"
   ]
  },
  {
   "cell_type": "code",
   "execution_count": 61,
   "id": "4cc1074d",
   "metadata": {},
   "outputs": [],
   "source": [
    "# Kategorisasi rating\n",
    "def categorize_rating(rating):\n",
    "    if rating < 2.5:\n",
    "        return 'Low'\n",
    "    elif rating < 3.5:\n",
    "        return 'Medium'\n",
    "    else:\n",
    "        return 'High'\n",
    "\n",
    "# Terapkan ke dataset\n",
    "df['rating_class'] = df['rating'].apply(categorize_rating)"
   ]
  },
  {
   "cell_type": "code",
   "execution_count": 62,
   "id": "81410ec2",
   "metadata": {},
   "outputs": [],
   "source": [
    "from sklearn.preprocessing import LabelEncoder\n",
    "\n",
    "# Initialize the label encoder\n",
    "label_encoder = LabelEncoder()\n",
    "\n",
    "# Encode the 'rating_class' column\n",
    "df['rating_class'] = label_encoder.fit_transform(df['rating_class'])\n",
    "\n",
    "# Display the first few rows to verify the changes\n",
    "df[['rating_class']].head()"
   ]
  },
  {
   "cell_type": "code",
   "execution_count": 63,
   "id": "5acdb65e",
   "metadata": {},
   "outputs": [],
   "source": [
    "# Simpan DataFrame yang telah dimodifikasi\n",
    "df.to_csv('film.csv', index=False)"
   ]
  },
  {
   "cell_type": "code",
   "execution_count": 64,
   "id": "69d00e37",
   "metadata": {},
   "outputs": [],
   "source": [
    "df = pd.read_csv('film.csv')"
   ]
  },
  {
   "cell_type": "markdown",
   "id": "4d30e79c",
   "metadata": {},
   "source": [
    "# Data Modelling & Evaluation"
   ]
  },
  {
   "cell_type": "code",
   "execution_count": 65,
   "id": "e02f9ba5",
   "metadata": {},
   "outputs": [],
   "source": [
    "#train test split\n",
    "\n",
    "from sklearn.model_selection import train_test_split\n",
    "\n",
    "X = df[['userId', 'movieId', 'year', 'genre']]  # fitur\n",
    "y = df['rating_class']               # target\n",
    "\n",
    "X_train, X_test, y_train, y_test = train_test_split(X, y, test_size=0.2, random_state=42)"
   ]
  },
  {
   "cell_type": "code",
   "execution_count": 66,
   "id": "97dadb82",
   "metadata": {},
   "outputs": [],
   "source": [
    "from sklearn.decomposition import TruncatedSVD\n",
    "from sklearn.metrics import mean_squared_error\n",
    "import numpy as np\n",
    "\n",
    "\n",
    "# Buat user-item matrix\n",
    "cf_data = df.pivot_table(index='userId', columns='movieId', values='rating')\n",
    "\n",
    "# Normalisasi per user: kurangi dengan rata-rata user\n",
    "user_means = cf_data.mean(axis=1)\n",
    "cf_data_centered = cf_data.sub(user_means, axis=0)\n",
    "\n",
    "# Ganti NaN dengan 0 untuk SVD\n",
    "cf_data_filled = cf_data_centered.fillna(0)\n",
    "\n",
    "# Gunakan SVD\n",
    "svd = TruncatedSVD(n_components=50, random_state=42)\n",
    "cf_matrix_reduced = svd.fit_transform(cf_data_filled)\n",
    "cf_matrix_pred = np.dot(cf_matrix_reduced, svd.components_)\n",
    "\n",
    "# Tambahkan kembali rata-rata user untuk mendapatkan skala rating asli\n",
    "cf_matrix_pred += user_means.values[:, np.newaxis]\n",
    "\n",
    "# Evaluasi RMSE\n",
    "true_ratings = cf_data.values\n",
    "mask = ~np.isnan(true_ratings)\n",
    "rmse = np.sqrt(mean_squared_error(true_ratings[mask], cf_matrix_pred[mask]))\n",
    "\n",
    "print(f'RMSE (SVD CF dengan normalisasi): {rmse:.4f}')"
   ]
  },
  {
   "cell_type": "code",
   "execution_count": 67,
   "id": "71c9481a",
   "metadata": {},
   "outputs": [],
   "source": [
    "from sklearn.tree import DecisionTreeRegressor\n",
    "\n",
    "# Ganti dengan model regresi\n",
    "regressor = DecisionTreeRegressor(random_state=42, max_depth=10)\n",
    "regressor.fit(X_train, y_train)\n",
    "\n",
    "# Prediksi\n",
    "y_pred = regressor.predict(X_test)\n",
    "print(\"RMSE:\", np.sqrt(mean_squared_error(y_test, y_pred)))"
   ]
  },
  {
   "cell_type": "code",
   "execution_count": 68,
   "id": "2b0dd81d",
   "metadata": {},
   "outputs": [],
   "source": [
    "from sklearn.metrics import mean_absolute_error, mean_squared_error, r2_score\n",
    "import numpy as np\n",
    "\n",
    "# MAE\n",
    "mae = mean_absolute_error(y_test, y_pred)\n",
    "print(f\"Mean Absolute Error (MAE): {mae:.2f}\")\n",
    "\n",
    "# MSE\n",
    "mse = mean_squared_error(y_test, y_pred)\n",
    "print(f\"Mean Squared Error (MSE): {mse:.2f}\")\n",
    "\n",
    "# RMSE\n",
    "rmse = np.sqrt(mse)\n",
    "print(f\"Root Mean Squared Error (RMSE): {rmse:.2f}\")\n",
    "\n",
    "# R² Score\n",
    "r2 = r2_score(y_test, y_pred)\n",
    "print(f\"R² Score: {r2:.2f}\")\n"
   ]
  },
  {
   "cell_type": "code",
   "execution_count": 69,
   "id": "b74f30e9",
   "metadata": {},
   "outputs": [],
   "source": [
    "from sklearn.ensemble import RandomForestRegressor\n",
    "\n",
    "# Buat dan latih model Random Forest Regressor\n",
    "rf_model = RandomForestRegressor(random_state=42)\n",
    "rf_model.fit(X_train, y_train)\n",
    "\n",
    "# Prediksi\n",
    "y_pred_rf = rf_model.predict(X_test)\n",
    "\n",
    "# Evaluasi\n",
    "from sklearn.metrics import mean_squared_error\n",
    "rmse_rf = np.sqrt(mean_squared_error(y_test, y_pred_rf))\n",
    "print(\"RMSE (Random Forest):\", rmse_rf)"
   ]
  },
  {
   "cell_type": "code",
   "execution_count": 70,
   "id": "edf0545c",
   "metadata": {},
   "outputs": [],
   "source": [
    "# MAE\n",
    "mae = mean_absolute_error(y_test, y_pred_rf)\n",
    "print(f\"Mean Absolute Error (MAE): {mae:.2f}\")\n",
    "\n",
    "# MSE\n",
    "mse = mean_squared_error(y_test, y_pred_rf)\n",
    "print(f\"Mean Squared Error (MSE): {mse:.2f}\")\n",
    "\n",
    "# RMSE\n",
    "rmse = np.sqrt(mse)\n",
    "print(f\"Root Mean Squared Error (RMSE): {rmse:.2f}\")\n",
    "\n",
    "# R² Score\n",
    "r2 = r2_score(y_test, y_pred_rf)\n",
    "print(f\"R² Score: {r2:.2f}\")"
   ]
  },
  {
   "cell_type": "code",
   "execution_count": 71,
   "id": "038a9bb5",
   "metadata": {},
   "outputs": [],
   "source": [
    "from sklearn.preprocessing import StandardScaler\n",
    "from sklearn.cluster import KMeans\n",
    "\n",
    "# Select numerical columns for clustering (excluding encoded categorical columns)\n",
    "numerical_features = ['rating', 'year']\n",
    "X = df[numerical_features]\n",
    "\n",
    "# Normalize the data\n",
    "scaler = StandardScaler()\n",
    "X_scaled = scaler.fit_transform(X)\n",
    "\n",
    "# Perform K-Means clustering with an arbitrary choice of 3 clusters\n",
    "kmeans = KMeans(n_clusters=3, random_state=42)\n",
    "df['cluster'] = kmeans.fit_predict(X_scaled)\n",
    "\n",
    "# Display the first few rows to verify the clustering results\n",
    "df[['rating', 'year', 'cluster']].head()\n"
   ]
  },
  {
   "cell_type": "code",
   "execution_count": 72,
   "id": "aedcc3b9",
   "metadata": {},
   "outputs": [],
   "source": [
    "import matplotlib.pyplot as plt\n",
    "import seaborn as sns\n",
    "\n",
    "# Set style\n",
    "sns.set(style=\"whitegrid\")\n",
    "\n",
    "# Buat plot 2D: rating vs. year, dengan warna berdasarkan cluster\n",
    "plt.figure(figsize=(10, 6))\n",
    "sns.scatterplot(data=df, x='year', y='rating', hue='cluster', palette='Set1', s=50)\n",
    "\n",
    "plt.title('Hasil Clustering K-Means Berdasarkan Rating dan Tahun Rilis')\n",
    "plt.xlabel('Tahun Rilis')\n",
    "plt.ylabel('Rating')\n",
    "plt.legend(title='Cluster')\n",
    "plt.tight_layout()\n",
    "plt.show()"
   ]
  },
  {
   "cell_type": "code",
   "execution_count": 73,
   "id": "1c4960d1",
   "metadata": {},
   "outputs": [],
   "source": [
    "from sklearn.naive_bayes import GaussianNB\n",
    "from sklearn.metrics import accuracy_score, classification_report, confusion_matrix\n",
    "\n",
    "model = GaussianNB()\n",
    "model.fit(X_train, y_train)\n",
    "\n",
    "y_pred = model.predict(X_test)\n",
    "\n",
    "print(\"Accuracy:\", accuracy_score(y_test, y_pred))\n",
    "print(\"Classification Report:\\n\", classification_report(y_test, y_pred))\n",
    "print(\"Confusion Matrix:\\n\", confusion_matrix(y_test, y_pred))"
   ]
  },
  {
   "cell_type": "code",
   "execution_count": 74,
   "id": "6ff2ad59",
   "metadata": {},
   "outputs": [],
   "source": [
    "from sklearn.metrics import confusion_matrix\n",
    "\n",
    "conf_matrix = confusion_matrix(y_test, y_pred)\n",
    "\n",
    "print(\"Confusion Matrix:\")\n",
    "print(conf_matrix)"
   ]
  },
  {
   "cell_type": "markdown",
   "id": "5108dc84",
   "metadata": {},
   "source": [
    "# Deployement"
   ]
  },
  {
   "cell_type": "code",
   "execution_count": 75,
   "id": "96b17da3",
   "metadata": {},
   "outputs": [],
   "source": [
    "import joblib\n",
    "\n",
    "joblib.dump(model, 'model.pkl')"
   ]
  }
 ],
 "metadata": {
  "kernelspec": {
   "display_name": "Python 3",
   "language": "python",
   "name": "python3"
  },
  "language_info": {
   "codemirror_mode": {
    "name": "ipython",
    "version": 3
   },
   "file_extension": ".py",
   "mimetype": "text/x-python",
   "name": "python",
   "nbconvert_exporter": "python",
   "pygments_lexer": "ipython3",
   "version": "3.13.3"
  }
 },
 "nbformat": 4,
 "nbformat_minor": 5
}
